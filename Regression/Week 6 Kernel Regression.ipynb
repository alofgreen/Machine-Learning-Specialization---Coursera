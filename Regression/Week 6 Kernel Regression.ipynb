{
 "cells": [
  {
   "cell_type": "markdown",
   "metadata": {},
   "source": [
    "import modules, define datatypes & import data"
   ]
  },
  {
   "cell_type": "code",
   "execution_count": 1,
   "metadata": {
    "ExecuteTime": {
     "end_time": "2017-08-04T20:03:03.345790",
     "start_time": "2017-08-04T20:03:02.019197"
    },
    "collapsed": true
   },
   "outputs": [],
   "source": [
    "import numpy as np\n",
    "import pandas as pd"
   ]
  },
  {
   "cell_type": "code",
   "execution_count": 2,
   "metadata": {
    "ExecuteTime": {
     "end_time": "2017-08-04T20:03:03.353484",
     "start_time": "2017-08-04T20:03:03.347889"
    },
    "collapsed": true
   },
   "outputs": [],
   "source": [
    "dtype_dict = {'bathrooms':float, 'waterfront':int, 'sqft_above':int, 'sqft_living15':float, \n",
    "              'grade':int, 'yr_renovated':int, 'price':float, 'bedrooms':float, 'zipcode':str, \n",
    "              'long':float, 'sqft_lot15':float, 'sqft_living':float, 'floors':float, \n",
    "              'condition':int, 'lat':float, 'date':str, 'sqft_basement':int, 'yr_built':int, \n",
    "              'id':str, 'sqft_lot':int, 'view':int}"
   ]
  },
  {
   "cell_type": "code",
   "execution_count": 3,
   "metadata": {
    "ExecuteTime": {
     "end_time": "2017-08-04T20:03:03.479512",
     "start_time": "2017-08-04T20:03:03.355975"
    },
    "collapsed": false
   },
   "outputs": [],
   "source": [
    "data = pd.read_csv('/Users/Andy/Documents/Coursera/kc_house_data_small.csv')\n",
    "train = pd.read_csv('/Users/Andy/Documents/Coursera/kc_house_data_small_train.csv')\n",
    "test = pd.read_csv('/Users/Andy/Documents/Coursera/kc_house_data_small_test.csv')\n",
    "validation = pd.read_csv('/Users/Andy/Documents/Coursera/kc_house_data_validation.csv')"
   ]
  },
  {
   "cell_type": "markdown",
   "metadata": {},
   "source": [
    "define functions"
   ]
  },
  {
   "cell_type": "code",
   "execution_count": 4,
   "metadata": {
    "ExecuteTime": {
     "end_time": "2017-08-04T20:03:03.490537",
     "start_time": "2017-08-04T20:03:03.482108"
    },
    "collapsed": true
   },
   "outputs": [],
   "source": [
    "def get_numpy_data(df, features, output):\n",
    "    df['constant'] =1\n",
    "    features=['constant']+features\n",
    "    features_df=df[features]\n",
    "    feature_matrix=features_df.as_matrix()\n",
    "    output_array=df['price']\n",
    "    output_array=output_array.as_matrix()\n",
    "    return(feature_matrix,output_array)"
   ]
  },
  {
   "cell_type": "code",
   "execution_count": 5,
   "metadata": {
    "ExecuteTime": {
     "end_time": "2017-08-04T20:03:03.503540",
     "start_time": "2017-08-04T20:03:03.494275"
    },
    "collapsed": true
   },
   "outputs": [],
   "source": [
    "def normalize_features(feature_matrix):\n",
    "    norms=np.linalg.norm(feature_matrix,axis=0)\n",
    "    normalized=(feature_matrix)/norms\n",
    "    return norms, normalized"
   ]
  },
  {
   "cell_type": "code",
   "execution_count": 6,
   "metadata": {
    "ExecuteTime": {
     "end_time": "2017-08-04T20:03:03.518237",
     "start_time": "2017-08-04T20:03:03.506050"
    },
    "collapsed": false
   },
   "outputs": [
    {
     "name": "stdout",
     "output_type": "stream",
     "text": [
      "[[ 0.6  0.6  0.6]\n",
      " [ 0.8  0.8  0.8]]\n",
      "[  5.  10.  15.]\n"
     ]
    }
   ],
   "source": [
    "#test normalize_features() function\n",
    "normalized, norms = normalize_features(np.array([[3.,6.,9.,],[4.,8.,12.]]))\n",
    "print(norms)\n",
    "print(normalized)"
   ]
  },
  {
   "cell_type": "markdown",
   "metadata": {},
   "source": [
    "create feature matrices for train, test and validation data"
   ]
  },
  {
   "cell_type": "code",
   "execution_count": 7,
   "metadata": {
    "ExecuteTime": {
     "end_time": "2017-08-04T20:03:03.768997",
     "start_time": "2017-08-04T20:03:03.755415"
    },
    "collapsed": true
   },
   "outputs": [],
   "source": [
    "feature_list = ['bedrooms',  \n",
    "                'bathrooms',  \n",
    "                'sqft_living',  \n",
    "                'sqft_lot',  \n",
    "                'floors',\n",
    "                'waterfront',  \n",
    "                'view',  \n",
    "                'condition',  \n",
    "                'grade',  \n",
    "                'sqft_above',  \n",
    "                'sqft_basement',\n",
    "                'yr_built',  \n",
    "                'yr_renovated',  \n",
    "                'lat',  \n",
    "                'long',  \n",
    "                'sqft_living15',  \n",
    "                'sqft_lot15']"
   ]
  },
  {
   "cell_type": "code",
   "execution_count": 8,
   "metadata": {
    "ExecuteTime": {
     "end_time": "2017-08-04T20:03:04.288685",
     "start_time": "2017-08-04T20:03:04.271135"
    },
    "collapsed": false
   },
   "outputs": [],
   "source": [
    "features_train, output_train = get_numpy_data(train,feature_list,'price')\n",
    "features_test, output_test = get_numpy_data(test,feature_list,'price')\n",
    "features_val, output_val = get_numpy_data(validation,feature_list,'price')"
   ]
  },
  {
   "cell_type": "code",
   "execution_count": 9,
   "metadata": {
    "ExecuteTime": {
     "end_time": "2017-08-04T20:03:04.516156",
     "start_time": "2017-08-04T20:03:04.508596"
    },
    "collapsed": false
   },
   "outputs": [],
   "source": [
    "norms, normalized_train = normalize_features(features_train)\n",
    "features_test = features_test/norms\n",
    "fearures_val = features_val/norms"
   ]
  },
  {
   "cell_type": "markdown",
   "metadata": {},
   "source": [
    "Compute a single distance"
   ]
  },
  {
   "cell_type": "code",
   "execution_count": 10,
   "metadata": {
    "ExecuteTime": {
     "end_time": "2017-08-04T20:03:05.556975",
     "start_time": "2017-08-04T20:03:05.549365"
    },
    "collapsed": false
   },
   "outputs": [
    {
     "name": "stdout",
     "output_type": "stream",
     "text": [
      "[ 0.01345102  0.01163464  0.00602491  0.00703685  0.00181386  0.0085295   0.\n",
      "  0.          0.0116321   0.01216718  0.00811747  0.          0.01333931\n",
      "  0.          0.01343685 -0.01345623  0.00861561  0.00229178]\n",
      "[ 0.01345102  0.01163464  0.00602491  0.0083488   0.00050756  0.01279425\n",
      "  0.          0.          0.01938684  0.01390535  0.0096309   0.\n",
      "  0.01302544  0.          0.01346821 -0.01346251  0.01195898  0.00156612]\n"
     ]
    }
   ],
   "source": [
    "print(normalized_train[0])\n",
    "print(normalized_train[9])"
   ]
  },
  {
   "cell_type": "markdown",
   "metadata": {},
   "source": [
    "What is the euclidean distance between <code>normalized_train[0]<code/> and <code>normalized_train[9]<code/> ?"
   ]
  },
  {
   "cell_type": "code",
   "execution_count": 11,
   "metadata": {
    "ExecuteTime": {
     "end_time": "2017-08-04T20:03:06.629376",
     "start_time": "2017-08-04T20:03:06.620510"
    },
    "collapsed": false
   },
   "outputs": [
    {
     "name": "stdout",
     "output_type": "stream",
     "text": [
      "[ -1.   3. -10.]\n",
      "[   1.    9.  100.]\n",
      "64.0\n"
     ]
    }
   ],
   "source": [
    "#test \n",
    "a1 = np.array([3.,10.,5.])\n",
    "a2 = np.array([4.,7.,15.])\n",
    "\n",
    "print(a1-a2)\n",
    "print((a1-a2)**2)\n",
    "print((np.sum(a1-a2)**2))"
   ]
  },
  {
   "cell_type": "code",
   "execution_count": 32,
   "metadata": {
    "ExecuteTime": {
     "end_time": "2017-08-04T20:08:43.986766",
     "start_time": "2017-08-04T20:08:43.981630"
    },
    "collapsed": false
   },
   "outputs": [],
   "source": [
    "dist = np.sqrt(np.sum((features_test[0]-normalized_train[9])**2))"
   ]
  },
  {
   "cell_type": "code",
   "execution_count": 34,
   "metadata": {
    "ExecuteTime": {
     "end_time": "2017-08-04T20:08:54.418168",
     "start_time": "2017-08-04T20:08:54.413633"
    },
    "collapsed": false
   },
   "outputs": [
    {
     "name": "stdout",
     "output_type": "stream",
     "text": [
      "The Euclidean distance is 0.05972\n"
     ]
    }
   ],
   "source": [
    "print('The Euclidean distance is',np.round(dist, decimals=5))"
   ]
  },
  {
   "cell_type": "code",
   "execution_count": 35,
   "metadata": {
    "ExecuteTime": {
     "end_time": "2017-08-04T20:09:53.420432",
     "start_time": "2017-08-04T20:09:53.415578"
    },
    "collapsed": true
   },
   "outputs": [],
   "source": [
    "#helper function for Euclidean distance\n",
    "def euclid_dist(h1,h2):\n",
    "    d = np.sqrt(np.sum((h1-h2)**2))\n",
    "    return d"
   ]
  },
  {
   "cell_type": "code",
   "execution_count": 36,
   "metadata": {
    "ExecuteTime": {
     "end_time": "2017-08-04T20:09:53.829640",
     "start_time": "2017-08-04T20:09:53.825266"
    },
    "collapsed": false
   },
   "outputs": [],
   "source": [
    "query_house = features_test[0]\n",
    "first10 = normalized_train[0:10]"
   ]
  },
  {
   "cell_type": "code",
   "execution_count": 37,
   "metadata": {
    "ExecuteTime": {
     "end_time": "2017-08-04T20:09:54.751631",
     "start_time": "2017-08-04T20:09:54.734508"
    },
    "collapsed": false
   },
   "outputs": [
    {
     "name": "stdout",
     "output_type": "stream",
     "text": [
      "0.060274709163\n",
      "0.0854688114764\n",
      "0.0614994643528\n",
      "0.0534027397929\n",
      "0.0584448406017\n",
      "0.0598792150981\n",
      "0.0546314049678\n",
      "0.0554310832361\n",
      "0.0523836278402\n",
      "0.059723593714\n",
      "Min distance is 0.052383627840220305 for house number 8\n"
     ]
    }
   ],
   "source": [
    "dist  = {}\n",
    "for i in range(len(first10)):\n",
    "    qh = query_house\n",
    "    h_i = first10[i]\n",
    "    d_i = euclid_dist(qh,h_i)\n",
    "    dist[i] = d_i\n",
    "    print(d_i)\n",
    "\n",
    "\n",
    "print(\"Min distance is {0} for house number {1}\".format(min(list(dist.values())),min(dist, key=dist.get)))"
   ]
  },
  {
   "cell_type": "markdown",
   "metadata": {},
   "source": [
    "Perform 1-nearest neighbor regression"
   ]
  },
  {
   "cell_type": "code",
   "execution_count": 16,
   "metadata": {
    "ExecuteTime": {
     "end_time": "2017-08-04T20:03:12.310269",
     "start_time": "2017-08-04T20:03:12.306198"
    },
    "collapsed": true
   },
   "outputs": [],
   "source": [
    "diff = normalized_train - features_test[0]"
   ]
  },
  {
   "cell_type": "code",
   "execution_count": 17,
   "metadata": {
    "ExecuteTime": {
     "end_time": "2017-08-04T20:03:12.694458",
     "start_time": "2017-08-04T20:03:12.664169"
    },
    "collapsed": false
   },
   "outputs": [
    {
     "data": {
      "text/plain": [
       "-0.093433998746546426"
      ]
     },
     "execution_count": 17,
     "metadata": {},
     "output_type": "execute_result"
    }
   ],
   "source": [
    "#verify diff \n",
    "diff[-1].sum()"
   ]
  },
  {
   "cell_type": "code",
   "execution_count": 18,
   "metadata": {
    "ExecuteTime": {
     "end_time": "2017-08-04T20:03:13.154668",
     "start_time": "2017-08-04T20:03:13.146594"
    },
    "collapsed": false
   },
   "outputs": [
    {
     "data": {
      "text/plain": [
       "array([ 0.00363304,  0.00730492,  0.00378218, ...,  0.0032681 ,\n",
       "        0.00325555,  0.00341846])"
      ]
     },
     "execution_count": 18,
     "metadata": {},
     "output_type": "execute_result"
    }
   ],
   "source": [
    "np.sum(diff**2,axis=1)"
   ]
  },
  {
   "cell_type": "code",
   "execution_count": 19,
   "metadata": {
    "ExecuteTime": {
     "end_time": "2017-08-04T20:03:14.026162",
     "start_time": "2017-08-04T20:03:14.020660"
    },
    "collapsed": false
   },
   "outputs": [
    {
     "name": "stdout",
     "output_type": "stream",
     "text": [
      "0.00330705902846\n",
      "0.00330705902846\n"
     ]
    }
   ],
   "source": [
    "#verify sum\n",
    "print(np.sum(diff**2,axis=1)[15])\n",
    "print((np.sum(diff[15]**2)))"
   ]
  },
  {
   "cell_type": "code",
   "execution_count": 20,
   "metadata": {
    "ExecuteTime": {
     "end_time": "2017-08-04T20:03:14.852198",
     "start_time": "2017-08-04T20:03:14.846033"
    },
    "collapsed": true
   },
   "outputs": [],
   "source": [
    "distances = np.sqrt(np.sum((normalized_train - features_test[0])**2,axis=1))"
   ]
  },
  {
   "cell_type": "code",
   "execution_count": 21,
   "metadata": {
    "ExecuteTime": {
     "end_time": "2017-08-04T20:03:15.225224",
     "start_time": "2017-08-04T20:03:15.219504"
    },
    "collapsed": true
   },
   "outputs": [],
   "source": [
    "def compute_distances(feature_instances, features_query):\n",
    "    distances = np.sqrt(np.sum((feature_instances-features_query)**2,axis=1))\n",
    "    return distances"
   ]
  },
  {
   "cell_type": "code",
   "execution_count": 90,
   "metadata": {
    "ExecuteTime": {
     "end_time": "2017-08-04T21:09:02.310276",
     "start_time": "2017-08-04T21:09:02.303159"
    },
    "collapsed": false
   },
   "outputs": [
    {
     "name": "stdout",
     "output_type": "stream",
     "text": [
      "The closest distanct is at location 382\n"
     ]
    }
   ],
   "source": [
    "#quiz question #16\n",
    "d = compute_distances(normalized_train, features_test[2:3])\n",
    "print('The closest distanct is at location',np.where(d==min(d))[0][0])"
   ]
  },
  {
   "cell_type": "code",
   "execution_count": 56,
   "metadata": {
    "ExecuteTime": {
     "end_time": "2017-08-04T20:20:47.332786",
     "start_time": "2017-08-04T20:20:47.327296"
    },
    "collapsed": false
   },
   "outputs": [
    {
     "name": "stdout",
     "output_type": "stream",
     "text": [
      "The price of the nearest house is $249000\n"
     ]
    }
   ],
   "source": [
    "#quiz question #17\n",
    "print('The price of the nearest house is ${}'.format(np.round(output_train[382])))"
   ]
  },
  {
   "cell_type": "code",
   "execution_count": 53,
   "metadata": {
    "ExecuteTime": {
     "end_time": "2017-08-04T20:16:30.440008",
     "start_time": "2017-08-04T20:16:30.434131"
    },
    "collapsed": false
   },
   "outputs": [],
   "source": [
    "def k_nearest_neighbors(k, features_train, features_query):\n",
    "    d = compute_distances(features_train, features_query)\n",
    "    di = np.argsort(d)\n",
    "    nn = di[0:k]\n",
    "    return nn"
   ]
  },
  {
   "cell_type": "code",
   "execution_count": 55,
   "metadata": {
    "ExecuteTime": {
     "end_time": "2017-08-04T20:16:44.757415",
     "start_time": "2017-08-04T20:16:44.750341"
    },
    "collapsed": false
   },
   "outputs": [
    {
     "data": {
      "text/plain": [
       "array([ 382, 1149, 4087, 3142])"
      ]
     },
     "execution_count": 55,
     "metadata": {},
     "output_type": "execute_result"
    }
   ],
   "source": [
    "#question 20\n",
    "k_nearest_neighbors(4, normalized_train, features_test[2])"
   ]
  },
  {
   "cell_type": "code",
   "execution_count": 192,
   "metadata": {
    "ExecuteTime": {
     "end_time": "2017-08-04T21:42:02.006516",
     "start_time": "2017-08-04T21:42:01.996217"
    },
    "collapsed": true
   },
   "outputs": [],
   "source": [
    "def predict_output_of_query(k, features_train, output_train, features_query):\n",
    "    i = k_nearest_neighbors(k, features_train, features_query)\n",
    "    avgP = np.average(output_train[i])\n",
    "    return avgP"
   ]
  },
  {
   "cell_type": "code",
   "execution_count": 197,
   "metadata": {
    "ExecuteTime": {
     "end_time": "2017-08-04T21:42:42.924941",
     "start_time": "2017-08-04T21:42:42.909169"
    },
    "collapsed": false
   },
   "outputs": [
    {
     "data": {
      "text/plain": [
       "413987.5"
      ]
     },
     "execution_count": 197,
     "metadata": {},
     "output_type": "execute_result"
    }
   ],
   "source": [
    "predict_output_of_query(k=4, \n",
    "                        features_train=normalized_train, \n",
    "                        output_train=output_train, \n",
    "                        features_query=features_test[2:3])"
   ]
  },
  {
   "cell_type": "code",
   "execution_count": 214,
   "metadata": {
    "ExecuteTime": {
     "end_time": "2017-08-04T21:47:24.042784",
     "start_time": "2017-08-04T21:47:24.029914"
    },
    "collapsed": false
   },
   "outputs": [],
   "source": [
    "def predict_output(k, features_train, output_train, features_query):\n",
    "    preds=[]\n",
    "    for i in range(features_query.shape[0]):\n",
    "        predict_i = predict_output_of_query(k, features_train, output_train, features_query[i])\n",
    "        preds.append(predict_i)\n",
    "    predictions=np.asarray(preds)\n",
    "    return predictions"
   ]
  },
  {
   "cell_type": "code",
   "execution_count": 217,
   "metadata": {
    "ExecuteTime": {
     "end_time": "2017-08-04T21:47:53.664310",
     "start_time": "2017-08-04T21:47:53.633045"
    },
    "collapsed": false
   },
   "outputs": [
    {
     "data": {
      "text/plain": [
       "6"
      ]
     },
     "execution_count": 217,
     "metadata": {},
     "output_type": "execute_result"
    }
   ],
   "source": [
    "p = predict_output(k=10, features_train=normalized_train, \n",
    "               output_train=output_train, features_query=features_test[0:10])\n",
    "np.argsort(p)[0]"
   ]
  },
  {
   "cell_type": "code",
   "execution_count": 233,
   "metadata": {
    "ExecuteTime": {
     "end_time": "2017-08-04T22:07:20.951891",
     "start_time": "2017-08-04T22:07:01.124030"
    },
    "collapsed": false
   },
   "outputs": [],
   "source": [
    "allRSS = []\n",
    "for i in range(1,16):\n",
    "    p = predict_output(k=i,\n",
    "                       features_train=normalized_train,\n",
    "                       output_train=output_train,\n",
    "                       features_query=features_val)\n",
    "    resids = p-output_val\n",
    "    rss = np.sum(resids**2)\n",
    "    allRSS.append(rss)"
   ]
  },
  {
   "cell_type": "code",
   "execution_count": 234,
   "metadata": {
    "ExecuteTime": {
     "end_time": "2017-08-04T22:07:20.962907",
     "start_time": "2017-08-04T22:07:20.954170"
    },
    "collapsed": false
   },
   "outputs": [
    {
     "data": {
      "text/plain": [
       "array([14, 13, 12, 11,  9, 10,  8,  7,  6,  5,  4,  3,  0,  2,  1])"
      ]
     },
     "execution_count": 234,
     "metadata": {},
     "output_type": "execute_result"
    }
   ],
   "source": [
    "allRSS_array = np.asarray(allRSS)\n",
    "np.argsort(allRSS_array)"
   ]
  },
  {
   "cell_type": "code",
   "execution_count": 231,
   "metadata": {
    "ExecuteTime": {
     "end_time": "2017-08-04T22:01:54.438608",
     "start_time": "2017-08-04T22:01:54.431213"
    },
    "collapsed": false
   },
   "outputs": [
    {
     "data": {
      "text/plain": [
       "211413021972473.56"
      ]
     },
     "execution_count": 231,
     "metadata": {},
     "output_type": "execute_result"
    }
   ],
   "source": [
    "min(allRSS)"
   ]
  },
  {
   "cell_type": "code",
   "execution_count": 1,
   "metadata": {
    "ExecuteTime": {
     "end_time": "2017-08-06T09:40:14.998288",
     "start_time": "2017-08-06T09:40:14.922846"
    },
    "collapsed": false
   },
   "outputs": [
    {
     "ename": "NameError",
     "evalue": "name 'allRSS' is not defined",
     "output_type": "error",
     "traceback": [
      "\u001b[0;31m---------------------------------------------------------------------------\u001b[0m",
      "\u001b[0;31mNameError\u001b[0m                                 Traceback (most recent call last)",
      "\u001b[0;32m<ipython-input-1-5a7e380fb1e2>\u001b[0m in \u001b[0;36m<module>\u001b[0;34m()\u001b[0m\n\u001b[0;32m----> 1\u001b[0;31m \u001b[0mmin\u001b[0m\u001b[0;34m(\u001b[0m\u001b[0mallRSS\u001b[0m\u001b[0;34m)\u001b[0m\u001b[0;34m\u001b[0m\u001b[0m\n\u001b[0m",
      "\u001b[0;31mNameError\u001b[0m: name 'allRSS' is not defined"
     ]
    }
   ],
   "source": [
    "min(allRSS)"
   ]
  }
 ],
 "metadata": {
  "anaconda-cloud": {},
  "kernelspec": {
   "display_name": "Python [Root]",
   "language": "python",
   "name": "Python [Root]"
  },
  "language_info": {
   "codemirror_mode": {
    "name": "ipython",
    "version": 3
   },
   "file_extension": ".py",
   "mimetype": "text/x-python",
   "name": "python",
   "nbconvert_exporter": "python",
   "pygments_lexer": "ipython3",
   "version": "3.5.2"
  },
  "toc": {
   "nav_menu": {
    "height": "12px",
    "width": "252px"
   },
   "navigate_menu": true,
   "number_sections": true,
   "sideBar": true,
   "threshold": 4,
   "toc_cell": false,
   "toc_section_display": "block",
   "toc_window_display": false
  }
 },
 "nbformat": 4,
 "nbformat_minor": 0
}
