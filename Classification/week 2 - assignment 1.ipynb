{
 "cells": [
  {
   "cell_type": "code",
   "execution_count": 1,
   "metadata": {
    "ExecuteTime": {
     "end_time": "2017-09-10T15:08:36.196760Z",
     "start_time": "2017-09-10T15:08:33.054270Z"
    },
    "collapsed": true
   },
   "outputs": [],
   "source": [
    "import numpy as np\n",
    "import pandas as pd\n",
    "import string\n",
    "from sklearn.feature_extraction.text import CountVectorizer\n",
    "from sklearn.linear_model import LinearRegression, LogisticRegression\n",
    "from sklearn.externals import joblib\n",
    "import math"
   ]
  },
  {
   "cell_type": "code",
   "execution_count": 2,
   "metadata": {
    "ExecuteTime": {
     "end_time": "2017-09-10T15:09:00.502961Z",
     "start_time": "2017-09-10T15:08:59.961234Z"
    },
    "collapsed": true
   },
   "outputs": [],
   "source": [
    "products = pd.read_csv('amazon_baby_subset.csv')"
   ]
  },
  {
   "cell_type": "code",
   "execution_count": 5,
   "metadata": {
    "ExecuteTime": {
     "end_time": "2017-09-10T15:09:30.373106Z",
     "start_time": "2017-09-10T15:09:30.351839Z"
    },
    "collapsed": false
   },
   "outputs": [
    {
     "data": {
      "text/html": [
       "<div>\n",
       "<style>\n",
       "    .dataframe thead tr:only-child th {\n",
       "        text-align: right;\n",
       "    }\n",
       "\n",
       "    .dataframe thead th {\n",
       "        text-align: left;\n",
       "    }\n",
       "\n",
       "    .dataframe tbody tr th {\n",
       "        vertical-align: top;\n",
       "    }\n",
       "</style>\n",
       "<table border=\"1\" class=\"dataframe\">\n",
       "  <thead>\n",
       "    <tr style=\"text-align: right;\">\n",
       "      <th></th>\n",
       "      <th>name</th>\n",
       "      <th>review</th>\n",
       "      <th>rating</th>\n",
       "      <th>sentiment</th>\n",
       "    </tr>\n",
       "  </thead>\n",
       "  <tbody>\n",
       "    <tr>\n",
       "      <th>0</th>\n",
       "      <td>Stop Pacifier Sucking without tears with Thumb...</td>\n",
       "      <td>All of my kids have cried non-stop when I trie...</td>\n",
       "      <td>5</td>\n",
       "      <td>1</td>\n",
       "    </tr>\n",
       "    <tr>\n",
       "      <th>1</th>\n",
       "      <td>Nature's Lullabies Second Year Sticker Calendar</td>\n",
       "      <td>We wanted to get something to keep track of ou...</td>\n",
       "      <td>5</td>\n",
       "      <td>1</td>\n",
       "    </tr>\n",
       "    <tr>\n",
       "      <th>2</th>\n",
       "      <td>Nature's Lullabies Second Year Sticker Calendar</td>\n",
       "      <td>My daughter had her 1st baby over a year ago. ...</td>\n",
       "      <td>5</td>\n",
       "      <td>1</td>\n",
       "    </tr>\n",
       "  </tbody>\n",
       "</table>\n",
       "</div>"
      ],
      "text/plain": [
       "                                                name  \\\n",
       "0  Stop Pacifier Sucking without tears with Thumb...   \n",
       "1    Nature's Lullabies Second Year Sticker Calendar   \n",
       "2    Nature's Lullabies Second Year Sticker Calendar   \n",
       "\n",
       "                                              review  rating  sentiment  \n",
       "0  All of my kids have cried non-stop when I trie...       5          1  \n",
       "1  We wanted to get something to keep track of ou...       5          1  \n",
       "2  My daughter had her 1st baby over a year ago. ...       5          1  "
      ]
     },
     "execution_count": 5,
     "metadata": {},
     "output_type": "execute_result"
    }
   ],
   "source": [
    "products.head(3)"
   ]
  },
  {
   "cell_type": "code",
   "execution_count": 4,
   "metadata": {
    "ExecuteTime": {
     "end_time": "2017-09-10T15:09:19.623492Z",
     "start_time": "2017-09-10T15:09:19.615660Z"
    },
    "collapsed": false
   },
   "outputs": [
    {
     "data": {
      "text/plain": [
       "0    Stop Pacifier Sucking without tears with Thumb...\n",
       "1      Nature's Lullabies Second Year Sticker Calendar\n",
       "2      Nature's Lullabies Second Year Sticker Calendar\n",
       "3                          Lamaze Peekaboo, I Love You\n",
       "4    SoftPlay Peek-A-Boo Where's Elmo A Children's ...\n",
       "5                            Our Baby Girl Memory Book\n",
       "6    Hunnt&reg; Falling Flowers and Birds Kids Nurs...\n",
       "7    Blessed By Pope Benedict XVI Divine Mercy Full...\n",
       "8    Cloth Diaper Pins Stainless Steel Traditional ...\n",
       "9    Cloth Diaper Pins Stainless Steel Traditional ...\n",
       "Name: name, dtype: object"
      ]
     },
     "execution_count": 4,
     "metadata": {},
     "output_type": "execute_result"
    }
   ],
   "source": [
    "products['name'].head(10)"
   ]
  },
  {
   "cell_type": "code",
   "execution_count": 15,
   "metadata": {
    "ExecuteTime": {
     "end_time": "2017-09-10T15:12:20.885506Z",
     "start_time": "2017-09-10T15:12:20.875937Z"
    },
    "collapsed": false
   },
   "outputs": [
    {
     "name": "stdout",
     "output_type": "stream",
     "text": [
      " 1    26579\n",
      "-1    26493\n",
      "Name: sentiment, dtype: int64\n"
     ]
    }
   ],
   "source": [
    "print(products.sentiment.value_counts())"
   ]
  },
  {
   "cell_type": "markdown",
   "metadata": {},
   "source": [
    "## Cleaning"
   ]
  },
  {
   "cell_type": "code",
   "execution_count": 16,
   "metadata": {
    "ExecuteTime": {
     "end_time": "2017-09-10T15:13:22.509077Z",
     "start_time": "2017-09-10T15:13:22.503540Z"
    },
    "collapsed": true
   },
   "outputs": [],
   "source": [
    "def remove_punctuation(text):\n",
    "    translator = text.maketrans('','',string.punctuation)\n",
    "    return text.translate(translator)"
   ]
  },
  {
   "cell_type": "code",
   "execution_count": 17,
   "metadata": {
    "ExecuteTime": {
     "end_time": "2017-09-10T15:13:52.098996Z",
     "start_time": "2017-09-10T15:13:52.082470Z"
    },
    "collapsed": true
   },
   "outputs": [],
   "source": [
    "products.review.fillna('',inplace=True)"
   ]
  },
  {
   "cell_type": "code",
   "execution_count": 18,
   "metadata": {
    "ExecuteTime": {
     "end_time": "2017-09-10T15:14:06.785603Z",
     "start_time": "2017-09-10T15:14:06.207922Z"
    },
    "collapsed": true
   },
   "outputs": [],
   "source": [
    "products['review_clean'] = products['review'].apply(remove_punctuation)"
   ]
  },
  {
   "cell_type": "code",
   "execution_count": 19,
   "metadata": {
    "ExecuteTime": {
     "end_time": "2017-09-10T15:14:10.886103Z",
     "start_time": "2017-09-10T15:14:10.876426Z"
    },
    "collapsed": false
   },
   "outputs": [
    {
     "data": {
      "text/plain": [
       "'All of my kids have cried nonstop when I tried to ween them off their pacifier until I found Thumbuddy To Loves Binky Fairy Puppet  It is an easy way to work with your kids to allow them to understand where their pacifier is going and help them part from itThis is a must buy book and a great gift for expecting parents  You will save them soo many headachesThanks for this book  You all rock'"
      ]
     },
     "execution_count": 19,
     "metadata": {},
     "output_type": "execute_result"
    }
   ],
   "source": [
    "products.iloc[0]['review_clean']"
   ]
  },
  {
   "cell_type": "code",
   "execution_count": 41,
   "metadata": {
    "ExecuteTime": {
     "end_time": "2017-09-10T15:21:10.143483Z",
     "start_time": "2017-09-10T15:21:10.133056Z"
    },
    "collapsed": false
   },
   "outputs": [],
   "source": [
    "important_words = pd.read_json('important_words.json')[0]\n",
    "important_words = list(important_words)"
   ]
  },
  {
   "cell_type": "code",
   "execution_count": 42,
   "metadata": {
    "ExecuteTime": {
     "end_time": "2017-09-10T15:24:09.643138Z",
     "start_time": "2017-09-10T15:21:40.013479Z"
    },
    "collapsed": false
   },
   "outputs": [],
   "source": [
    "for word in important_words:\n",
    "    products[word] = products['review_clean'].apply(lambda s : s.split().count(word))"
   ]
  },
  {
   "cell_type": "code",
   "execution_count": 46,
   "metadata": {
    "ExecuteTime": {
     "end_time": "2017-09-10T15:26:24.202440Z",
     "start_time": "2017-09-10T15:26:24.195624Z"
    },
    "collapsed": true
   },
   "outputs": [],
   "source": [
    "products['contains_perfect'] = np.where(products['perfect']>=1,1,0)"
   ]
  },
  {
   "cell_type": "code",
   "execution_count": 48,
   "metadata": {
    "ExecuteTime": {
     "end_time": "2017-09-10T15:27:00.492326Z",
     "start_time": "2017-09-10T15:27:00.486607Z"
    },
    "collapsed": false
   },
   "outputs": [
    {
     "name": "stdout",
     "output_type": "stream",
     "text": [
      "2955 reviews contain the word perfect\n"
     ]
    }
   ],
   "source": [
    "print(products.contains_perfect.sum(),'reviews contain the word perfect')"
   ]
  },
  {
   "cell_type": "markdown",
   "metadata": {},
   "source": [
    "## Convert DataFrame to multi-dimensional array "
   ]
  },
  {
   "cell_type": "code",
   "execution_count": 49,
   "metadata": {
    "ExecuteTime": {
     "end_time": "2017-09-10T15:33:53.461834Z",
     "start_time": "2017-09-10T15:33:53.453291Z"
    },
    "collapsed": true
   },
   "outputs": [],
   "source": [
    "def get_numpy_data(df, features, label):\n",
    "    df['constant'] = 1\n",
    "    features = ['constant'] + features\n",
    "    features_frame = df[features]\n",
    "    feature_matrix = features_frame.as_matrix()\n",
    "    label_sarray = df[label]\n",
    "    label_array = label_sarray.as_matrix()\n",
    "    return(feature_matrix, label_array)"
   ]
  },
  {
   "cell_type": "code",
   "execution_count": 51,
   "metadata": {
    "ExecuteTime": {
     "end_time": "2017-09-10T15:35:02.836869Z",
     "start_time": "2017-09-10T15:35:02.471263Z"
    },
    "collapsed": false
   },
   "outputs": [],
   "source": [
    "feature_matrix, sentiment = get_numpy_data(products,important_words,'sentiment')"
   ]
  },
  {
   "cell_type": "code",
   "execution_count": 58,
   "metadata": {
    "ExecuteTime": {
     "end_time": "2017-09-10T15:36:40.660029Z",
     "start_time": "2017-09-10T15:36:40.654315Z"
    },
    "collapsed": false
   },
   "outputs": [
    {
     "name": "stdout",
     "output_type": "stream",
     "text": [
      "There are 194 features in feature_matrix\n"
     ]
    }
   ],
   "source": [
    "print('There are',feature_matrix.shape[1],'features in feature_matrix')"
   ]
  },
  {
   "cell_type": "markdown",
   "metadata": {},
   "source": [
    "## Estimating conditional probability with link function"
   ]
  },
  {
   "cell_type": "code",
   "execution_count": 147,
   "metadata": {
    "ExecuteTime": {
     "end_time": "2017-09-10T20:41:42.956216Z",
     "start_time": "2017-09-10T20:41:42.947751Z"
    },
    "collapsed": true
   },
   "outputs": [],
   "source": [
    "'''\n",
    "produces probablistic estimate for P(y_i = +1 | x_i, w).\n",
    "estimate ranges between 0 and 1.\n",
    "'''\n",
    "\n",
    "def predict_probability(feature_matrix, coefficients):\n",
    "    # Take dot product of feature_matrix and coefficients  \n",
    "    # YOUR CODE HERE\n",
    "    score = np.dot(feature_matrix, coefficients)\n",
    "\n",
    "    # Compute P(y_i = +1 | x_i, w) using the link function\n",
    "    # YOUR CODE HERE\n",
    "    predictions = 1/(1+np.exp(score))\n",
    "    \n",
    "    # return predictions\n",
    "    return score"
   ]
  },
  {
   "cell_type": "markdown",
   "metadata": {},
   "source": [
    "## Compute derivative of log likelihood with respect to a single coefficient"
   ]
  },
  {
   "cell_type": "code",
   "execution_count": 60,
   "metadata": {
    "ExecuteTime": {
     "end_time": "2017-09-10T15:57:27.201717Z",
     "start_time": "2017-09-10T15:57:27.195358Z"
    },
    "collapsed": true
   },
   "outputs": [],
   "source": [
    "def feature_derivative(errors, feature):     \n",
    "    # Compute the dot product of errors and feature\n",
    "    derivative = np.dot(errors,feature)\n",
    "        # Return the derivative\n",
    "    return derivative"
   ]
  },
  {
   "cell_type": "code",
   "execution_count": 62,
   "metadata": {
    "ExecuteTime": {
     "end_time": "2017-09-10T15:57:38.211549Z",
     "start_time": "2017-09-10T15:57:38.204109Z"
    },
    "collapsed": false
   },
   "outputs": [],
   "source": [
    "def compute_log_likelihood(feature_matrix, sentiment, coefficients):\n",
    "    indicator = (sentiment==+1)\n",
    "    scores = np.dot(feature_matrix, coefficients)\n",
    "    lp = np.sum((indicator-1)*scores - np.log(1. + np.exp(-scores)))\n",
    "    return lp"
   ]
  },
  {
   "cell_type": "markdown",
   "metadata": {},
   "source": [
    "## Taking Gradient Steps"
   ]
  },
  {
   "cell_type": "code",
   "execution_count": 167,
   "metadata": {
    "ExecuteTime": {
     "end_time": "2017-09-10T20:53:03.897776Z",
     "start_time": "2017-09-10T20:53:03.872067Z"
    },
    "cell_style": "center",
    "collapsed": false
   },
   "outputs": [],
   "source": [
    "from math import sqrt\n",
    "def logistic_regression(feature_matrix, sentiment, initial_coefficients, step_size, max_iter):\n",
    "    coefficients = np.array(initial_coefficients) # make sure it's a numpy array\n",
    "    for itr in range(max_iter):\n",
    "        # Predict P(y_i = +1|x_1,w) using your predict_probability() function\n",
    "        # YOUR CODE HERE\n",
    "        predictions = predict_probability(feature_matrix, initial_coefficients)\n",
    "\n",
    "        # Compute indicator value for (y_i = +1)\n",
    "        indicator = (sentiment==+1)\n",
    "\n",
    "        # Compute the errors as indicator - predictions\n",
    "        errors = indicator - predictions\n",
    "\n",
    "        for j in range(len(coefficients)): # loop over each coefficient\n",
    "            # Recall that feature_matrix[:,j] is the feature column associated with coefficients[j]\n",
    "            # compute the derivative for coefficients[j]. Save it in a variable called derivative\n",
    "            # YOUR CODE HERE\n",
    "            derivative = feature_derivative(errors,feature_matrix[:,j])\n",
    "            print(derivative)\n",
    "\n",
    "            # add the step size times the derivative to the current coefficient\n",
    "            # YOUR CODE HERE\n",
    "#             coefficients[j] = step_si÷ze*derivative\n",
    "\n",
    "        # Checking whether log likelihood is increasing\n",
    "#         if itr <= 15 or (itr <= 100 and itr % 10 == 0) or (itr <= 1000 and itr % 100 == 0) \\\n",
    "#         or (itr <= 10000 and itr % 1000 == 0) or itr % 10000 == 0:\n",
    "#             lp = compute_log_likelihood(feature_matrix, sentiment, coefficients)\n",
    "#             print('iteration %*d: log likelihood of observed labels = %.8f' % \\\n",
    "#                 (int(np.ceil(np.log10(max_iter))), itr, lp))\n",
    "    return errors"
   ]
  },
  {
   "cell_type": "code",
   "execution_count": 170,
   "metadata": {
    "ExecuteTime": {
     "end_time": "2017-09-10T20:53:35.569648Z",
     "start_time": "2017-09-10T20:53:35.442230Z"
    },
    "collapsed": false
   },
   "outputs": [
    {
     "name": "stdout",
     "output_type": "stream",
     "text": [
      "26579.0\n",
      "9822.0\n",
      "9807.0\n",
      "8113.0\n",
      "5997.0\n",
      "7503.0\n",
      "6991.0\n",
      "6812.0\n",
      "6165.0\n",
      "6438.0\n",
      "6084.0\n",
      "5632.0\n",
      "5370.0\n",
      "5356.0\n",
      "4123.0\n",
      "4612.0\n",
      "4371.0\n",
      "4318.0\n",
      "4055.0\n",
      "4199.0\n",
      "3717.0\n",
      "3823.0\n",
      "3940.0\n",
      "3619.0\n",
      "3713.0\n",
      "3925.0\n",
      "3673.0\n",
      "3398.0\n",
      "3355.0\n",
      "3201.0\n",
      "3366.0\n",
      "3239.0\n",
      "2926.0\n",
      "2860.0\n",
      "2612.0\n",
      "2666.0\n",
      "2855.0\n",
      "2593.0\n",
      "2700.0\n",
      "2701.0\n",
      "2534.0\n",
      "2725.0\n",
      "2120.0\n",
      "2546.0\n",
      "2202.0\n",
      "2219.0\n",
      "2187.0\n",
      "2371.0\n",
      "2229.0\n",
      "2128.0\n",
      "2119.0\n",
      "2238.0\n",
      "1994.0\n",
      "2271.0\n",
      "2074.0\n",
      "2328.0\n",
      "2239.0\n",
      "2178.0\n",
      "2190.0\n",
      "2132.0\n",
      "2017.0\n",
      "2052.0\n",
      "2159.0\n",
      "2011.0\n",
      "2095.0\n",
      "1998.0\n",
      "1992.0\n",
      "1996.0\n",
      "1873.0\n",
      "1844.0\n",
      "1930.0\n",
      "1887.0\n",
      "1746.0\n",
      "1960.0\n",
      "1733.0\n",
      "1759.0\n",
      "1650.0\n",
      "1952.0\n",
      "1884.0\n",
      "1734.0\n",
      "1725.0\n",
      "1768.0\n",
      "1759.0\n",
      "1821.0\n",
      "1654.0\n",
      "1676.0\n",
      "1776.0\n",
      "1579.0\n",
      "1736.0\n",
      "1498.0\n",
      "1651.0\n",
      "1572.0\n",
      "1639.0\n",
      "1497.0\n",
      "1421.0\n",
      "1440.0\n",
      "1513.0\n",
      "882.0\n",
      "1290.0\n",
      "1227.0\n",
      "1040.0\n",
      "1357.0\n",
      "1072.0\n",
      "1334.0\n",
      "1180.0\n",
      "453.0\n",
      "197.0\n",
      "1162.0\n",
      "1298.0\n",
      "1344.0\n",
      "1361.0\n",
      "1657.0\n",
      "1346.0\n",
      "134.0\n",
      "134.0\n",
      "165.0\n",
      "1449.0\n",
      "1274.0\n",
      "1545.0\n",
      "1248.0\n",
      "1442.0\n",
      "1241.0\n",
      "899.0\n",
      "745.0\n",
      "1469.0\n",
      "1089.0\n",
      "1566.0\n",
      "1489.0\n",
      "1518.0\n",
      "1171.0\n",
      "896.0\n",
      "907.0\n",
      "876.0\n",
      "1103.0\n",
      "379.0\n",
      "777.0\n",
      "1305.0\n",
      "923.0\n",
      "1092.0\n",
      "737.0\n",
      "469.0\n",
      "937.0\n",
      "1341.0\n",
      "1435.0\n",
      "1460.0\n",
      "1510.0\n",
      "820.0\n",
      "1448.0\n",
      "851.0\n",
      "1104.0\n",
      "1096.0\n",
      "1205.0\n",
      "1101.0\n",
      "1402.0\n",
      "1297.0\n",
      "952.0\n",
      "581.0\n",
      "547.0\n",
      "1405.0\n",
      "612.0\n",
      "591.0\n",
      "1052.0\n",
      "1440.0\n",
      "1015.0\n",
      "851.0\n",
      "748.0\n",
      "835.0\n",
      "317.0\n",
      "1080.0\n",
      "112.0\n",
      "326.0\n",
      "923.0\n",
      "181.0\n",
      "1389.0\n",
      "570.0\n",
      "639.0\n",
      "400.0\n",
      "1000.0\n",
      "727.0\n",
      "783.0\n",
      "701.0\n",
      "345.0\n",
      "1087.0\n",
      "314.0\n",
      "1287.0\n",
      "537.0\n",
      "420.0\n",
      "1237.0\n",
      "752.0\n",
      "1102.0\n",
      "17.0\n",
      "666.0\n",
      "1007.0\n",
      "539.0\n"
     ]
    },
    {
     "data": {
      "text/plain": [
       "53072"
      ]
     },
     "execution_count": 170,
     "metadata": {},
     "output_type": "execute_result"
    }
   ],
   "source": [
    "len(logistic_regression(feature_matrix, sentiment, np.zeros(194), 1e-7, 1))"
   ]
  },
  {
   "cell_type": "code",
   "execution_count": 172,
   "metadata": {
    "ExecuteTime": {
     "end_time": "2017-09-10T20:54:17.839790Z",
     "start_time": "2017-09-10T20:54:17.833800Z"
    },
    "collapsed": false
   },
   "outputs": [
    {
     "data": {
      "text/plain": [
       "(53072, 194)"
      ]
     },
     "execution_count": 172,
     "metadata": {},
     "output_type": "execute_result"
    }
   ],
   "source": [
    "feature_matrix.shape"
   ]
  },
  {
   "cell_type": "code",
   "execution_count": 68,
   "metadata": {
    "ExecuteTime": {
     "end_time": "2017-09-10T16:05:25.709931Z",
     "start_time": "2017-09-10T16:05:25.704366Z"
    },
    "collapsed": false
   },
   "outputs": [
    {
     "data": {
      "text/plain": [
       "range(0, 10)"
      ]
     },
     "execution_count": 68,
     "metadata": {},
     "output_type": "execute_result"
    }
   ],
   "source": [
    "range(10)"
   ]
  },
  {
   "cell_type": "code",
   "execution_count": null,
   "metadata": {
    "collapsed": true
   },
   "outputs": [],
   "source": []
  }
 ],
 "metadata": {
  "kernelspec": {
   "display_name": "Python [Root]",
   "language": "python",
   "name": "Python [Root]"
  },
  "language_info": {
   "codemirror_mode": {
    "name": "ipython",
    "version": 3
   },
   "file_extension": ".py",
   "mimetype": "text/x-python",
   "name": "python",
   "nbconvert_exporter": "python",
   "pygments_lexer": "ipython3",
   "version": "3.5.2"
  },
  "toc": {
   "colors": {
    "hover_highlight": "#DAA520",
    "navigate_num": "#000000",
    "navigate_text": "#333333",
    "running_highlight": "#FF0000",
    "selected_highlight": "#FFD700",
    "sidebar_border": "#EEEEEE",
    "wrapper_background": "#FFFFFF"
   },
   "moveMenuLeft": true,
   "nav_menu": {
    "height": "102px",
    "width": "252px"
   },
   "navigate_menu": true,
   "number_sections": true,
   "sideBar": true,
   "threshold": 4,
   "toc_cell": false,
   "toc_section_display": "block",
   "toc_window_display": false,
   "widenNotebook": false
  }
 },
 "nbformat": 4,
 "nbformat_minor": 0
}
