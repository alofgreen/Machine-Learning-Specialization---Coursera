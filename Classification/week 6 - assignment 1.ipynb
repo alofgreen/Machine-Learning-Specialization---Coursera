{
 "cells": [
  {
   "cell_type": "code",
   "execution_count": 1,
   "metadata": {
    "ExecuteTime": {
     "end_time": "2017-11-12T09:56:52.459927Z",
     "start_time": "2017-11-12T09:56:50.559699Z"
    },
    "collapsed": true
   },
   "outputs": [],
   "source": [
    "import numpy as np\n",
    "import pandas as pd\n",
    "import string\n",
    "import math\n",
    "import json\n",
    "import pydotplus\n",
    "from IPython.display import Image "
   ]
  },
  {
   "cell_type": "code",
   "execution_count": 2,
   "metadata": {
    "ExecuteTime": {
     "end_time": "2017-11-12T09:56:54.104705Z",
     "start_time": "2017-11-12T09:56:52.462181Z"
    },
    "collapsed": true
   },
   "outputs": [],
   "source": [
    "products = pd.read_csv('amazon_baby.csv')"
   ]
  },
  {
   "cell_type": "markdown",
   "metadata": {},
   "source": [
    "## Perform Cleaning"
   ]
  },
  {
   "cell_type": "code",
   "execution_count": 3,
   "metadata": {
    "ExecuteTime": {
     "end_time": "2017-11-12T09:56:54.111993Z",
     "start_time": "2017-11-12T09:56:54.107488Z"
    },
    "collapsed": true
   },
   "outputs": [],
   "source": [
    "def remove_punctuation(text):\n",
    "    translator = text.maketrans('','',string.punctuation)\n",
    "    return text.translate(translator)"
   ]
  },
  {
   "cell_type": "code",
   "execution_count": 4,
   "metadata": {
    "ExecuteTime": {
     "end_time": "2017-11-12T09:56:54.156631Z",
     "start_time": "2017-11-12T09:56:54.114962Z"
    },
    "collapsed": true
   },
   "outputs": [],
   "source": [
    "products.review.fillna('',inplace=True)"
   ]
  },
  {
   "cell_type": "code",
   "execution_count": 5,
   "metadata": {
    "ExecuteTime": {
     "end_time": "2017-11-12T09:56:56.202768Z",
     "start_time": "2017-11-12T09:56:54.159680Z"
    },
    "collapsed": true
   },
   "outputs": [],
   "source": [
    "products['review_clean'] = products['review'].apply(remove_punctuation)"
   ]
  },
  {
   "cell_type": "markdown",
   "metadata": {
    "collapsed": true
   },
   "source": [
    "## Extract Sentiments"
   ]
  },
  {
   "cell_type": "code",
   "execution_count": 6,
   "metadata": {
    "ExecuteTime": {
     "end_time": "2017-11-12T09:56:56.299014Z",
     "start_time": "2017-11-12T09:56:56.205194Z"
    },
    "collapsed": true
   },
   "outputs": [],
   "source": [
    "products = products[products['rating'] != 3]"
   ]
  },
  {
   "cell_type": "code",
   "execution_count": 7,
   "metadata": {
    "ExecuteTime": {
     "end_time": "2017-11-12T09:56:56.469937Z",
     "start_time": "2017-11-12T09:56:56.302352Z"
    },
    "collapsed": true
   },
   "outputs": [],
   "source": [
    "products['sentiment'] = products['rating'].apply(lambda rating : +1 if rating > 3 else -1)"
   ]
  },
  {
   "cell_type": "markdown",
   "metadata": {
    "collapsed": true
   },
   "source": [
    "## Split into training and test sets"
   ]
  },
  {
   "cell_type": "code",
   "execution_count": 8,
   "metadata": {
    "ExecuteTime": {
     "end_time": "2017-11-12T09:56:56.574718Z",
     "start_time": "2017-11-12T09:56:56.472039Z"
    },
    "collapsed": true
   },
   "outputs": [],
   "source": [
    "train_index = pd.read_json('module-9-assignment-train-idx.json')\n",
    "train_index = list(train_index[0])"
   ]
  },
  {
   "cell_type": "code",
   "execution_count": 9,
   "metadata": {
    "ExecuteTime": {
     "end_time": "2017-11-12T09:56:56.602746Z",
     "start_time": "2017-11-12T09:56:56.577213Z"
    },
    "collapsed": true
   },
   "outputs": [],
   "source": [
    "test_index = pd.read_json('module-9-assignment-test-idx.json')\n",
    "test_index = list(test_index[0])"
   ]
  },
  {
   "cell_type": "code",
   "execution_count": 10,
   "metadata": {
    "ExecuteTime": {
     "end_time": "2017-11-12T09:56:56.663815Z",
     "start_time": "2017-11-12T09:56:56.605325Z"
    },
    "collapsed": false
   },
   "outputs": [],
   "source": [
    "train_data = products.iloc[train_index]\n",
    "test_data = products.iloc[test_index]"
   ]
  },
  {
   "cell_type": "code",
   "execution_count": 11,
   "metadata": {
    "ExecuteTime": {
     "end_time": "2017-11-12T09:56:56.675960Z",
     "start_time": "2017-11-12T09:56:56.670289Z"
    },
    "collapsed": false
   },
   "outputs": [
    {
     "name": "stdout",
     "output_type": "stream",
     "text": [
      "Training set: 133416 data points\n",
      "Test set: 33336 data points\n"
     ]
    }
   ],
   "source": [
    "print('Training set: %d data points' % len(train_data))\n",
    "print('Test set: %d data points' % len(test_data))"
   ]
  },
  {
   "cell_type": "markdown",
   "metadata": {},
   "source": [
    "## Build the word count vector for each review"
   ]
  },
  {
   "cell_type": "code",
   "execution_count": 12,
   "metadata": {
    "ExecuteTime": {
     "end_time": "2017-11-12T09:57:15.994152Z",
     "start_time": "2017-11-12T09:56:56.681441Z"
    },
    "collapsed": true
   },
   "outputs": [],
   "source": [
    "from sklearn.feature_extraction.text import CountVectorizer\n",
    "\n",
    "vectorizer = CountVectorizer(token_pattern=r'\\b\\w+\\b')\n",
    "# Use this token pattern to keep single-letter words\n",
    "# First, learn vocabulary from the training data and assign columns to words\n",
    "# Then convert the training data into a sparse matrix\n",
    "train_matrix = vectorizer.fit_transform(train_data['review_clean'])\n",
    "# Second, convert the test data into a sparse matrix, using the same word-column mapping\n",
    "test_matrix = vectorizer.transform(test_data['review_clean'])"
   ]
  },
  {
   "cell_type": "markdown",
   "metadata": {},
   "source": [
    "## Train a sentiment classifier with logistic regression"
   ]
  },
  {
   "cell_type": "code",
   "execution_count": 13,
   "metadata": {
    "ExecuteTime": {
     "end_time": "2017-11-12T09:57:16.165306Z",
     "start_time": "2017-11-12T09:57:15.996307Z"
    },
    "collapsed": true
   },
   "outputs": [],
   "source": [
    "from sklearn import linear_model"
   ]
  },
  {
   "cell_type": "code",
   "execution_count": 14,
   "metadata": {
    "ExecuteTime": {
     "end_time": "2017-11-12T09:57:16.171538Z",
     "start_time": "2017-11-12T09:57:16.168161Z"
    },
    "collapsed": true
   },
   "outputs": [],
   "source": [
    "logistic = linear_model.LogisticRegression()"
   ]
  },
  {
   "cell_type": "code",
   "execution_count": 15,
   "metadata": {
    "ExecuteTime": {
     "end_time": "2017-11-12T09:58:37.704785Z",
     "start_time": "2017-11-12T09:57:16.174223Z"
    },
    "collapsed": true
   },
   "outputs": [],
   "source": [
    "model = logistic.fit(train_matrix, train_data['sentiment'])"
   ]
  },
  {
   "cell_type": "markdown",
   "metadata": {},
   "source": [
    "## Model Evaluation"
   ]
  },
  {
   "cell_type": "code",
   "execution_count": 16,
   "metadata": {
    "ExecuteTime": {
     "end_time": "2017-11-12T09:58:37.742310Z",
     "start_time": "2017-11-12T09:58:37.708210Z"
    },
    "collapsed": false
   },
   "outputs": [
    {
     "name": "stdout",
     "output_type": "stream",
     "text": [
      "Test Accuracy: 0.932265418766\n"
     ]
    }
   ],
   "source": [
    "from sklearn.metrics import accuracy_score\n",
    "accuracy = accuracy_score(y_true=test_data['sentiment'].as_matrix(), y_pred=model.predict(test_matrix))\n",
    "print(\"Test Accuracy: %s\" % accuracy)"
   ]
  },
  {
   "cell_type": "markdown",
   "metadata": {},
   "source": [
    "## Baseline: Majority class prediction"
   ]
  },
  {
   "cell_type": "code",
   "execution_count": 17,
   "metadata": {
    "ExecuteTime": {
     "end_time": "2017-11-12T09:58:37.758332Z",
     "start_time": "2017-11-12T09:58:37.744909Z"
    },
    "collapsed": false
   },
   "outputs": [
    {
     "name": "stdout",
     "output_type": "stream",
     "text": [
      "Baseline accuracy (majority class classifier): 0.8427825773938085\n"
     ]
    }
   ],
   "source": [
    "baseline = len(test_data[test_data['sentiment'] == 1])/len(test_data)\n",
    "print(\"Baseline accuracy (majority class classifier): %s\" % baseline)"
   ]
  },
  {
   "cell_type": "markdown",
   "metadata": {},
   "source": [
    "## Confusion Matix"
   ]
  },
  {
   "cell_type": "code",
   "execution_count": 18,
   "metadata": {
    "ExecuteTime": {
     "end_time": "2017-11-12T09:58:37.840369Z",
     "start_time": "2017-11-12T09:58:37.761064Z"
    },
    "collapsed": false
   },
   "outputs": [
    {
     "name": "stdout",
     "output_type": "stream",
     "text": [
      " target_label | predicted_label | count \n",
      "--------------+-----------------+-------\n",
      "     -1       |       -1        |  3788\n",
      "     -1       |        1        |  1453\n",
      "      1       |       -1        |   805\n",
      "      1       |        1        | 27290\n"
     ]
    }
   ],
   "source": [
    "from sklearn.metrics import confusion_matrix\n",
    "cmat = confusion_matrix(y_true=test_data['sentiment'].as_matrix(),\n",
    "                        y_pred=model.predict(test_matrix),\n",
    "                        labels=model.classes_)    # use the same order of class as the LR model.\n",
    "print(' target_label | predicted_label | count ')\n",
    "print('--------------+-----------------+-------')\n",
    "# Print out the confusion matrix.\n",
    "# NOTE: Your tool may arrange entries in a different order. Consult appropriate manuals.\n",
    "for i, target_label in enumerate(model.classes_):\n",
    "    for j, predicted_label in enumerate(model.classes_):\n",
    "        print('{0:^13} | {1:^15} | {2:5d}'.format(target_label, predicted_label, cmat[i,j]))"
   ]
  },
  {
   "cell_type": "markdown",
   "metadata": {
    "collapsed": true
   },
   "source": [
    "## Computing the cost of mistakes"
   ]
  },
  {
   "cell_type": "code",
   "execution_count": 19,
   "metadata": {
    "ExecuteTime": {
     "end_time": "2017-11-12T09:58:37.849012Z",
     "start_time": "2017-11-12T09:58:37.843044Z"
    },
    "collapsed": false
   },
   "outputs": [
    {
     "name": "stdout",
     "output_type": "stream",
     "text": [
      "cost of false positives = 145300\n",
      "cost of false negatives = 805\n",
      "total cost =$ 146105\n"
     ]
    }
   ],
   "source": [
    "#cost \n",
    "#false positives\n",
    "print('cost of false positives =',1453*100)\n",
    "print('cost of false negatives =',805*1)\n",
    "print('total cost =$', 1453*100+805*1)"
   ]
  },
  {
   "cell_type": "code",
   "execution_count": 20,
   "metadata": {
    "ExecuteTime": {
     "end_time": "2017-11-12T09:58:37.887095Z",
     "start_time": "2017-11-12T09:58:37.851642Z"
    },
    "collapsed": false
   },
   "outputs": [
    {
     "name": "stdout",
     "output_type": "stream",
     "text": [
      "Precision on test data: 0.949448561389\n"
     ]
    }
   ],
   "source": [
    "from sklearn.metrics import precision_score\n",
    "precision = precision_score(y_true=test_data['sentiment'].as_matrix(), \n",
    "                            y_pred=model.predict(test_matrix))\n",
    "print(\"Precision on test data: %s\" % precision)"
   ]
  },
  {
   "cell_type": "code",
   "execution_count": 21,
   "metadata": {
    "ExecuteTime": {
     "end_time": "2017-11-12T09:58:37.895024Z",
     "start_time": "2017-11-12T09:58:37.889577Z"
    },
    "collapsed": false
   },
   "outputs": [
    {
     "name": "stdout",
     "output_type": "stream",
     "text": [
      "The false positive rate is: 0.0505514386111\n"
     ]
    }
   ],
   "source": [
    "print('The false positive rate is:', 1-precision)"
   ]
  },
  {
   "cell_type": "code",
   "execution_count": 22,
   "metadata": {
    "ExecuteTime": {
     "end_time": "2017-11-12T09:58:37.937328Z",
     "start_time": "2017-11-12T09:58:37.899674Z"
    },
    "collapsed": false
   },
   "outputs": [
    {
     "name": "stdout",
     "output_type": "stream",
     "text": [
      "Recall on test data: 0.971347214807\n"
     ]
    }
   ],
   "source": [
    "from sklearn.metrics import recall_score\n",
    "recall = recall_score(y_true=test_data['sentiment'].as_matrix(),\n",
    "                      y_pred=model.predict(test_matrix))\n",
    "print(\"Recall on test data: %s\" % recall)"
   ]
  },
  {
   "cell_type": "code",
   "execution_count": 23,
   "metadata": {
    "ExecuteTime": {
     "end_time": "2017-11-12T09:58:37.944604Z",
     "start_time": "2017-11-12T09:58:37.939975Z"
    },
    "collapsed": false
   },
   "outputs": [
    {
     "name": "stdout",
     "output_type": "stream",
     "text": [
      "0.971347214807 percent of positive reviews are correctly classified as positive\n"
     ]
    }
   ],
   "source": [
    "print(recall,'percent of positive reviews are correctly classified as positive')"
   ]
  },
  {
   "cell_type": "code",
   "execution_count": 35,
   "metadata": {
    "ExecuteTime": {
     "end_time": "2017-11-12T10:03:05.648492Z",
     "start_time": "2017-11-12T10:03:05.641133Z"
    },
    "collapsed": false
   },
   "outputs": [
    {
     "name": "stdout",
     "output_type": "stream",
     "text": [
      "recall if all are predicted as positive would be: 0.842782577394\n"
     ]
    }
   ],
   "source": [
    "print('recall if all are predicted as positive would be:', test_data.sentiment.value_counts(normalize=True).values[0])"
   ]
  },
  {
   "cell_type": "markdown",
   "metadata": {},
   "source": [
    "## Precision-recall tradeoff"
   ]
  },
  {
   "cell_type": "code",
   "execution_count": 219,
   "metadata": {
    "ExecuteTime": {
     "end_time": "2017-11-12T15:33:04.842987Z",
     "start_time": "2017-11-12T15:33:04.824414Z"
    },
    "collapsed": false
   },
   "outputs": [],
   "source": [
    "probabilities = model.predict_proba(test_matrix)[:,1]"
   ]
  },
  {
   "cell_type": "code",
   "execution_count": 223,
   "metadata": {
    "ExecuteTime": {
     "end_time": "2017-11-12T15:33:13.698221Z",
     "start_time": "2017-11-12T15:33:13.692126Z"
    },
    "collapsed": true
   },
   "outputs": [],
   "source": [
    "def apply_threshold(proba_array, threshold=0.5):\n",
    "    ar = proba_array.copy()\n",
    "    ar[ar>=threshold]=1\n",
    "    ar[ar<threshold]=0\n",
    "    return ar"
   ]
  },
  {
   "cell_type": "code",
   "execution_count": 229,
   "metadata": {
    "ExecuteTime": {
     "end_time": "2017-11-12T15:34:05.370763Z",
     "start_time": "2017-11-12T15:34:05.363072Z"
    },
    "collapsed": false
   },
   "outputs": [
    {
     "name": "stdout",
     "output_type": "stream",
     "text": [
      "number of positive reviews at threshold of 0.5: 28743\n"
     ]
    }
   ],
   "source": [
    "output = apply_threshold(probabilities)\n",
    "print('number of positive reviews at threshold of 0.5:',output[output==1].shape[0])"
   ]
  },
  {
   "cell_type": "code",
   "execution_count": 230,
   "metadata": {
    "ExecuteTime": {
     "end_time": "2017-11-12T15:34:25.216853Z",
     "start_time": "2017-11-12T15:34:25.210007Z"
    },
    "collapsed": false
   },
   "outputs": [
    {
     "name": "stdout",
     "output_type": "stream",
     "text": [
      "number of positive reviews at threshold of 0.9: 25070\n"
     ]
    }
   ],
   "source": [
    "output = apply_threshold(probabilities,0.9)\n",
    "print('number of positive reviews at threshold of 0.9:', output[output==1].shape[0])"
   ]
  },
  {
   "cell_type": "markdown",
   "metadata": {},
   "source": [
    "## Exploring the associated precision and recall as the threshold varies"
   ]
  },
  {
   "cell_type": "markdown",
   "metadata": {},
   "source": [
    "Compute precision and recall for thresholds at 0.5 and 0.9"
   ]
  },
  {
   "cell_type": "code",
   "execution_count": 233,
   "metadata": {
    "ExecuteTime": {
     "end_time": "2017-11-12T15:39:47.648634Z",
     "start_time": "2017-11-12T15:39:47.615681Z"
    },
    "collapsed": false
   },
   "outputs": [
    {
     "name": "stdout",
     "output_type": "stream",
     "text": [
      "Precision and Recall at 0.5 Threshold\n",
      "Recall on test data: 0.971347214807\n",
      "Precision on test data: 0.949448561389\n"
     ]
    }
   ],
   "source": [
    "print('Precision and Recall at 0.5 Threshold')\n",
    "\n",
    "precision = precision_score(y_true=test_data['sentiment'].as_matrix(), y_pred=apply_threshold(probabilities))\n",
    "recall = recall_score(y_true=test_data['sentiment'].as_matrix(),y_pred=apply_threshold(probabilities))\n",
    "print(\"Recall on test data: %s\" % recall)\n",
    "print(\"Precision on test data: %s\" % precision)"
   ]
  },
  {
   "cell_type": "code",
   "execution_count": 234,
   "metadata": {
    "ExecuteTime": {
     "end_time": "2017-11-12T15:40:14.701243Z",
     "start_time": "2017-11-12T15:40:14.668957Z"
    },
    "collapsed": false
   },
   "outputs": [
    {
     "name": "stdout",
     "output_type": "stream",
     "text": [
      "Precision and Recall at 0.9 Threshold\n",
      "Recall on test data: 0.875920982381\n",
      "Precision on test data: 0.981611487834\n"
     ]
    }
   ],
   "source": [
    "print('Precision and Recall at 0.9 Threshold')\n",
    "\n",
    "precision = precision_score(y_true=test_data['sentiment'].as_matrix(), y_pred=apply_threshold(probabilities,0.9))\n",
    "recall = recall_score(y_true=test_data['sentiment'].as_matrix(),y_pred=apply_threshold(probabilities,0.9))\n",
    "print(\"Recall on test data: %s\" % recall)\n",
    "print(\"Precision on test data: %s\" % precision)"
   ]
  },
  {
   "cell_type": "markdown",
   "metadata": {},
   "source": [
    "Quiz Question (variant 1): Does the precision increase with a higher threshold?\n",
    " - Yes\n",
    "\n",
    "Quiz Question (variant 2): Does the recall increase with a higher threshold?\n",
    " - No"
   ]
  },
  {
   "cell_type": "markdown",
   "metadata": {},
   "source": [
    "\n",
    "## Precision-recall curve\n"
   ]
  },
  {
   "cell_type": "code",
   "execution_count": 236,
   "metadata": {
    "ExecuteTime": {
     "end_time": "2017-11-12T15:42:59.556879Z",
     "start_time": "2017-11-12T15:42:59.549221Z"
    },
    "collapsed": true
   },
   "outputs": [
    {
     "name": "stdout",
     "output_type": "stream",
     "text": [
      "[ 0.5         0.50505051  0.51010101  0.51515152  0.52020202  0.52525253\n",
      "  0.53030303  0.53535354  0.54040404  0.54545455  0.55050505  0.55555556\n",
      "  0.56060606  0.56565657  0.57070707  0.57575758  0.58080808  0.58585859\n",
      "  0.59090909  0.5959596   0.6010101   0.60606061  0.61111111  0.61616162\n",
      "  0.62121212  0.62626263  0.63131313  0.63636364  0.64141414  0.64646465\n",
      "  0.65151515  0.65656566  0.66161616  0.66666667  0.67171717  0.67676768\n",
      "  0.68181818  0.68686869  0.69191919  0.6969697   0.7020202   0.70707071\n",
      "  0.71212121  0.71717172  0.72222222  0.72727273  0.73232323  0.73737374\n",
      "  0.74242424  0.74747475  0.75252525  0.75757576  0.76262626  0.76767677\n",
      "  0.77272727  0.77777778  0.78282828  0.78787879  0.79292929  0.7979798\n",
      "  0.8030303   0.80808081  0.81313131  0.81818182  0.82323232  0.82828283\n",
      "  0.83333333  0.83838384  0.84343434  0.84848485  0.85353535  0.85858586\n",
      "  0.86363636  0.86868687  0.87373737  0.87878788  0.88383838  0.88888889\n",
      "  0.89393939  0.8989899   0.9040404   0.90909091  0.91414141  0.91919192\n",
      "  0.92424242  0.92929293  0.93434343  0.93939394  0.94444444  0.94949495\n",
      "  0.95454545  0.95959596  0.96464646  0.96969697  0.97474747  0.97979798\n",
      "  0.98484848  0.98989899  0.99494949  1.        ]\n"
     ]
    }
   ],
   "source": [
    "threshold_values = np.linspace(0.5, 1, num=100)\n",
    "print(threshold_values)"
   ]
  },
  {
   "cell_type": "code",
   "execution_count": 299,
   "metadata": {
    "ExecuteTime": {
     "end_time": "2017-11-12T20:57:21.272495Z",
     "start_time": "2017-11-12T20:57:21.248675Z"
    },
    "collapsed": false
   },
   "outputs": [],
   "source": [
    "def recall_function(proba_array, threshold, data):\n",
    "    ar = proba_array.copy()\n",
    "    ar = apply_threshold(ar, threshold)\n",
    "    from sklearn.metrics import recall_score\n",
    "    recall = recall_score(y_true=data['sentiment'].as_matrix(),\n",
    "                          y_pred=ar)\n",
    "    return recall\n",
    "\n",
    "def precision_function(proba_array, threshold, data):\n",
    "    ar = proba_array.copy()\n",
    "    ar = apply_threshold(ar, threshold)\n",
    "    from sklearn.metrics import precision_score\n",
    "    precision = precision_score(y_true=data['sentiment'].as_matrix(),\n",
    "                                y_pred=ar)\n",
    "    return precision\n",
    "\n",
    "def plot_pr_curve(precision, recall, title):\n",
    "    plt.rcParams['figure.figsize'] = 7, 5\n",
    "    plt.locator_params(axis = 'x', nbins = 5)\n",
    "    plt.plot(precision, recall, 'b-', linewidth=4.0, color = '#B0017F')\n",
    "    plt.title(title)\n",
    "    plt.xlabel('Precision')\n",
    "    plt.ylabel('Recall')\n",
    "    plt.rcParams.update({'font.size': 16})"
   ]
  },
  {
   "cell_type": "code",
   "execution_count": 240,
   "metadata": {
    "ExecuteTime": {
     "end_time": "2017-11-12T19:56:37.432293Z",
     "start_time": "2017-11-12T19:56:34.865654Z"
    },
    "collapsed": true
   },
   "outputs": [],
   "source": [
    "recall_all = [recall_function(probabilities, x, test_data) for x in threshold_values]\n",
    "precision_all = [precision_function(probabilities, x, test_data) for x in threshold_values]"
   ]
  },
  {
   "cell_type": "code",
   "execution_count": 243,
   "metadata": {
    "ExecuteTime": {
     "end_time": "2017-11-12T19:58:21.781064Z",
     "start_time": "2017-11-12T19:58:21.419637Z"
    },
    "collapsed": false
   },
   "outputs": [
    {
     "data": {
      "image/png": "[encoded data removed]",
      "text/plain": [
       "<matplotlib.figure.Figure at 0x127d284e0>"
      ]
     },
     "metadata": {},
     "output_type": "display_data"
    }
   ],
   "source": [
    "import matplotlib.pyplot as plt\n",
    "%matplotlib inline\n",
    "plot_pr_curve(precision_all, recall_all, 'Precision recall curve (all)')"
   ]
  },
  {
   "cell_type": "markdown",
   "metadata": {},
   "source": [
    "Quiz Question: Among all the threshold values tried, what is the smallest threshold value that achieves a precision of 96.5% or better? Round your answer to 3 decimal places.\n",
    "\n",
    "Answer: 0.5757575757575758\n",
    "\n"
   ]
  },
  {
   "cell_type": "code",
   "execution_count": 246,
   "metadata": {
    "ExecuteTime": {
     "end_time": "2017-11-12T20:03:59.261166Z",
     "start_time": "2017-11-12T20:03:59.244497Z"
    },
    "collapsed": true
   },
   "outputs": [
    {
     "data": {
      "text/plain": [
       "[(0.97134721480690511, 0.5),\n",
       " (0.97092009254315714, 0.50505050505050508),\n",
       " (0.97052856380138819, 0.51010101010101006),\n",
       " (0.97013703505961912, 0.51515151515151514),\n",
       " (0.96992347392774514, 0.52020202020202022),\n",
       " (0.96949635166399717, 0.5252525252525253),\n",
       " (0.9691048229222281, 0.53030303030303028),\n",
       " (0.96874888770243817, 0.53535353535353536),\n",
       " (0.9683217654386902, 0.54040404040404044),\n",
       " (0.96800142374087916, 0.54545454545454541),\n",
       " (0.96753870795515218, 0.5505050505050505),\n",
       " (0.96700480512546716, 0.55555555555555558),\n",
       " (0.96682683751557219, 0.56060606060606055),\n",
       " (0.96647090229578214, 0.56565656565656564),\n",
       " (0.96593699946609712, 0.57070707070707072),\n",
       " (0.96533190959245418, 0.5757575757575758),\n",
       " (0.96465563267485321, 0.58080808080808077),\n",
       " (0.96419291688912623, 0.58585858585858586),\n",
       " (0.96355223349350416, 0.59090909090909094),\n",
       " (0.96312511122975619, 0.59595959595959602),\n",
       " (0.96255561487809216, 0.60101010101010099),\n",
       " (0.96198611852642824, 0.60606060606060608),\n",
       " (0.96148780921872223, 0.61111111111111116),\n",
       " (0.96123865456486923, 0.61616161616161613),\n",
       " (0.96077593877914225, 0.62121212121212122),\n",
       " (0.96027762947143624, 0.6262626262626263),\n",
       " (0.95970813311977221, 0.63131313131313127),\n",
       " (0.95910304324612916, 0.63636363636363635),\n",
       " (0.95853354689446524, 0.64141414141414144),\n",
       " (0.95792845702082219, 0.64646464646464641),\n",
       " (0.95735896066915827, 0.65151515151515149),\n",
       " (0.9567182772735362, 0.65656565656565657),\n",
       " (0.95607759387791424, 0.66161616161616166),\n",
       " (0.95533012991635524, 0.66666666666666674),\n",
       " (0.95486741413062826, 0.67171717171717171),\n",
       " (0.95415554369104827, 0.6767676767676768),\n",
       " (0.9535148602954262, 0.68181818181818188),\n",
       " (0.95248264815803518, 0.68686868686868685),\n",
       " (0.95159281010856023, 0.69191919191919193),\n",
       " (0.95120128136679127, 0.69696969696969702),\n",
       " (0.95009788218544222, 0.70202020202020199),\n",
       " (0.94935041822388322, 0.70707070707070707),\n",
       " (0.94842498665242925, 0.71212121212121215),\n",
       " (0.94725040042712227, 0.71717171717171713),\n",
       " (0.9465741235095213, 0.72222222222222221),\n",
       " (0.94568428546004624, 0.72727272727272729),\n",
       " (0.94475885388859226, 0.73232323232323238),\n",
       " (0.94372664175120125, 0.73737373737373746),\n",
       " (0.94265883609183132, 0.74242424242424243),\n",
       " (0.94144865634454533, 0.74747474747474751),\n",
       " (0.94045203772913333, 0.7525252525252526),\n",
       " (0.93959779320163728, 0.75757575757575757),\n",
       " (0.93845880049830932, 0.76262626262626265),\n",
       " (0.93746218188289732, 0.76767676767676774),\n",
       " (0.93607403452571636, 0.77272727272727271),\n",
       " (0.93461470012457737, 0.77777777777777779),\n",
       " (0.93365367503114438, 0.78282828282828287),\n",
       " (0.93226552767396331, 0.78787878787878785),\n",
       " (0.93109094144865634, 0.79292929292929293),\n",
       " (0.93005872931126532, 0.79797979797979801),\n",
       " (0.92297561843744436, 0.80303030303030298),\n",
       " (0.92169425164620045, 0.80808080808080818),\n",
       " (0.91973660793735545, 0.81313131313131315),\n",
       " (0.91827727353621635, 0.81818181818181823),\n",
       " (0.9166399715251824, 0.82323232323232332),\n",
       " (0.91457554725040047, 0.82828282828282829),\n",
       " (0.91240434240968149, 0.83333333333333337),\n",
       " (0.9104822922228154, 0.83838383838383845),\n",
       " (0.90909414486563445, 0.84343434343434343),\n",
       " (0.90717209467876847, 0.84848484848484851),\n",
       " (0.90500088983804949, 0.85353535353535359),\n",
       " (0.90236696921160353, 0.85858585858585856),\n",
       " (0.89923473927745146, 0.86363636363636365),\n",
       " (0.89649403808506856, 0.86868686868686873),\n",
       " (0.89421605267841253, 0.8737373737373737),\n",
       " (0.89140416444207149, 0.8787878787878789),\n",
       " (0.88791599928812959, 0.88383838383838387),\n",
       " (0.88435664709022954, 0.88888888888888884),\n",
       " (0.88033457910660262, 0.89393939393939403),\n",
       " (0.87649047873287067, 0.89898989898989901),\n",
       " (0.87211247552945359, 0.90404040404040409),\n",
       " (0.86833956219967967, 0.90909090909090917),\n",
       " (0.86364121729845167, 0.91414141414141414),\n",
       " (0.85709200925431572, 0.91919191919191923),\n",
       " (0.85114789108382272, 0.92424242424242431),\n",
       " (0.84456308951770775, 0.92929292929292928),\n",
       " (0.83712404342409685, 0.93434343434343436),\n",
       " (0.82961381028652781, 0.93939393939393945),\n",
       " (0.82096458444563092, 0.94444444444444442),\n",
       " (0.81185264281900693, 0.94949494949494961),\n",
       " (0.80017796760989501, 0.95454545454545459),\n",
       " (0.78804057661505611, 0.95959595959595956),\n",
       " (0.77259298807617016, 0.96464646464646475),\n",
       " (0.75621996796583024, 0.96969696969696972),\n",
       " (0.73489944830040932, 0.97474747474747481),\n",
       " (0.70774159103043244, 0.97979797979797989),\n",
       " (0.67332265527673962, 0.98484848484848486),\n",
       " (0.62075102331375687, 0.98989898989898994),\n",
       " (0.52956042000355941, 0.99494949494949503),\n",
       " (0.00056949635166399714, 1.0)]"
      ]
     },
     "execution_count": 246,
     "metadata": {},
     "output_type": "execute_result"
    }
   ],
   "source": [
    "list(zip(recall_all, threshold_values))"
   ]
  },
  {
   "cell_type": "code",
   "execution_count": 247,
   "metadata": {
    "ExecuteTime": {
     "end_time": "2017-11-12T20:15:42.239863Z",
     "start_time": "2017-11-12T20:15:42.209842Z"
    },
    "collapsed": true
   },
   "outputs": [
    {
     "data": {
      "text/html": [
       "<div>\n",
       "<style>\n",
       "    .dataframe thead tr:only-child th {\n",
       "        text-align: right;\n",
       "    }\n",
       "\n",
       "    .dataframe thead th {\n",
       "        text-align: left;\n",
       "    }\n",
       "\n",
       "    .dataframe tbody tr th {\n",
       "        vertical-align: top;\n",
       "    }\n",
       "</style>\n",
       "<table border=\"1\" class=\"dataframe\">\n",
       "  <thead>\n",
       "    <tr style=\"text-align: right;\">\n",
       "      <th></th>\n",
       "      <th>0</th>\n",
       "      <th>1</th>\n",
       "    </tr>\n",
       "  </thead>\n",
       "  <tbody>\n",
       "    <tr>\n",
       "      <th>0</th>\n",
       "      <td>0.971347</td>\n",
       "      <td>0.500000</td>\n",
       "    </tr>\n",
       "    <tr>\n",
       "      <th>1</th>\n",
       "      <td>0.970920</td>\n",
       "      <td>0.505051</td>\n",
       "    </tr>\n",
       "    <tr>\n",
       "      <th>2</th>\n",
       "      <td>0.970529</td>\n",
       "      <td>0.510101</td>\n",
       "    </tr>\n",
       "    <tr>\n",
       "      <th>3</th>\n",
       "      <td>0.970137</td>\n",
       "      <td>0.515152</td>\n",
       "    </tr>\n",
       "    <tr>\n",
       "      <th>4</th>\n",
       "      <td>0.969923</td>\n",
       "      <td>0.520202</td>\n",
       "    </tr>\n",
       "    <tr>\n",
       "      <th>5</th>\n",
       "      <td>0.969496</td>\n",
       "      <td>0.525253</td>\n",
       "    </tr>\n",
       "    <tr>\n",
       "      <th>6</th>\n",
       "      <td>0.969105</td>\n",
       "      <td>0.530303</td>\n",
       "    </tr>\n",
       "    <tr>\n",
       "      <th>7</th>\n",
       "      <td>0.968749</td>\n",
       "      <td>0.535354</td>\n",
       "    </tr>\n",
       "    <tr>\n",
       "      <th>8</th>\n",
       "      <td>0.968322</td>\n",
       "      <td>0.540404</td>\n",
       "    </tr>\n",
       "    <tr>\n",
       "      <th>9</th>\n",
       "      <td>0.968001</td>\n",
       "      <td>0.545455</td>\n",
       "    </tr>\n",
       "    <tr>\n",
       "      <th>10</th>\n",
       "      <td>0.967539</td>\n",
       "      <td>0.550505</td>\n",
       "    </tr>\n",
       "    <tr>\n",
       "      <th>11</th>\n",
       "      <td>0.967005</td>\n",
       "      <td>0.555556</td>\n",
       "    </tr>\n",
       "    <tr>\n",
       "      <th>12</th>\n",
       "      <td>0.966827</td>\n",
       "      <td>0.560606</td>\n",
       "    </tr>\n",
       "    <tr>\n",
       "      <th>13</th>\n",
       "      <td>0.966471</td>\n",
       "      <td>0.565657</td>\n",
       "    </tr>\n",
       "    <tr>\n",
       "      <th>14</th>\n",
       "      <td>0.965937</td>\n",
       "      <td>0.570707</td>\n",
       "    </tr>\n",
       "    <tr>\n",
       "      <th>15</th>\n",
       "      <td>0.965332</td>\n",
       "      <td>0.575758</td>\n",
       "    </tr>\n",
       "    <tr>\n",
       "      <th>16</th>\n",
       "      <td>0.964656</td>\n",
       "      <td>0.580808</td>\n",
       "    </tr>\n",
       "    <tr>\n",
       "      <th>17</th>\n",
       "      <td>0.964193</td>\n",
       "      <td>0.585859</td>\n",
       "    </tr>\n",
       "    <tr>\n",
       "      <th>18</th>\n",
       "      <td>0.963552</td>\n",
       "      <td>0.590909</td>\n",
       "    </tr>\n",
       "    <tr>\n",
       "      <th>19</th>\n",
       "      <td>0.963125</td>\n",
       "      <td>0.595960</td>\n",
       "    </tr>\n",
       "    <tr>\n",
       "      <th>20</th>\n",
       "      <td>0.962556</td>\n",
       "      <td>0.601010</td>\n",
       "    </tr>\n",
       "    <tr>\n",
       "      <th>21</th>\n",
       "      <td>0.961986</td>\n",
       "      <td>0.606061</td>\n",
       "    </tr>\n",
       "    <tr>\n",
       "      <th>22</th>\n",
       "      <td>0.961488</td>\n",
       "      <td>0.611111</td>\n",
       "    </tr>\n",
       "    <tr>\n",
       "      <th>23</th>\n",
       "      <td>0.961239</td>\n",
       "      <td>0.616162</td>\n",
       "    </tr>\n",
       "    <tr>\n",
       "      <th>24</th>\n",
       "      <td>0.960776</td>\n",
       "      <td>0.621212</td>\n",
       "    </tr>\n",
       "    <tr>\n",
       "      <th>25</th>\n",
       "      <td>0.960278</td>\n",
       "      <td>0.626263</td>\n",
       "    </tr>\n",
       "    <tr>\n",
       "      <th>26</th>\n",
       "      <td>0.959708</td>\n",
       "      <td>0.631313</td>\n",
       "    </tr>\n",
       "    <tr>\n",
       "      <th>27</th>\n",
       "      <td>0.959103</td>\n",
       "      <td>0.636364</td>\n",
       "    </tr>\n",
       "    <tr>\n",
       "      <th>28</th>\n",
       "      <td>0.958534</td>\n",
       "      <td>0.641414</td>\n",
       "    </tr>\n",
       "    <tr>\n",
       "      <th>29</th>\n",
       "      <td>0.957928</td>\n",
       "      <td>0.646465</td>\n",
       "    </tr>\n",
       "    <tr>\n",
       "      <th>...</th>\n",
       "      <td>...</td>\n",
       "      <td>...</td>\n",
       "    </tr>\n",
       "    <tr>\n",
       "      <th>70</th>\n",
       "      <td>0.905001</td>\n",
       "      <td>0.853535</td>\n",
       "    </tr>\n",
       "    <tr>\n",
       "      <th>71</th>\n",
       "      <td>0.902367</td>\n",
       "      <td>0.858586</td>\n",
       "    </tr>\n",
       "    <tr>\n",
       "      <th>72</th>\n",
       "      <td>0.899235</td>\n",
       "      <td>0.863636</td>\n",
       "    </tr>\n",
       "    <tr>\n",
       "      <th>73</th>\n",
       "      <td>0.896494</td>\n",
       "      <td>0.868687</td>\n",
       "    </tr>\n",
       "    <tr>\n",
       "      <th>74</th>\n",
       "      <td>0.894216</td>\n",
       "      <td>0.873737</td>\n",
       "    </tr>\n",
       "    <tr>\n",
       "      <th>75</th>\n",
       "      <td>0.891404</td>\n",
       "      <td>0.878788</td>\n",
       "    </tr>\n",
       "    <tr>\n",
       "      <th>76</th>\n",
       "      <td>0.887916</td>\n",
       "      <td>0.883838</td>\n",
       "    </tr>\n",
       "    <tr>\n",
       "      <th>77</th>\n",
       "      <td>0.884357</td>\n",
       "      <td>0.888889</td>\n",
       "    </tr>\n",
       "    <tr>\n",
       "      <th>78</th>\n",
       "      <td>0.880335</td>\n",
       "      <td>0.893939</td>\n",
       "    </tr>\n",
       "    <tr>\n",
       "      <th>79</th>\n",
       "      <td>0.876490</td>\n",
       "      <td>0.898990</td>\n",
       "    </tr>\n",
       "    <tr>\n",
       "      <th>80</th>\n",
       "      <td>0.872112</td>\n",
       "      <td>0.904040</td>\n",
       "    </tr>\n",
       "    <tr>\n",
       "      <th>81</th>\n",
       "      <td>0.868340</td>\n",
       "      <td>0.909091</td>\n",
       "    </tr>\n",
       "    <tr>\n",
       "      <th>82</th>\n",
       "      <td>0.863641</td>\n",
       "      <td>0.914141</td>\n",
       "    </tr>\n",
       "    <tr>\n",
       "      <th>83</th>\n",
       "      <td>0.857092</td>\n",
       "      <td>0.919192</td>\n",
       "    </tr>\n",
       "    <tr>\n",
       "      <th>84</th>\n",
       "      <td>0.851148</td>\n",
       "      <td>0.924242</td>\n",
       "    </tr>\n",
       "    <tr>\n",
       "      <th>85</th>\n",
       "      <td>0.844563</td>\n",
       "      <td>0.929293</td>\n",
       "    </tr>\n",
       "    <tr>\n",
       "      <th>86</th>\n",
       "      <td>0.837124</td>\n",
       "      <td>0.934343</td>\n",
       "    </tr>\n",
       "    <tr>\n",
       "      <th>87</th>\n",
       "      <td>0.829614</td>\n",
       "      <td>0.939394</td>\n",
       "    </tr>\n",
       "    <tr>\n",
       "      <th>88</th>\n",
       "      <td>0.820965</td>\n",
       "      <td>0.944444</td>\n",
       "    </tr>\n",
       "    <tr>\n",
       "      <th>89</th>\n",
       "      <td>0.811853</td>\n",
       "      <td>0.949495</td>\n",
       "    </tr>\n",
       "    <tr>\n",
       "      <th>90</th>\n",
       "      <td>0.800178</td>\n",
       "      <td>0.954545</td>\n",
       "    </tr>\n",
       "    <tr>\n",
       "      <th>91</th>\n",
       "      <td>0.788041</td>\n",
       "      <td>0.959596</td>\n",
       "    </tr>\n",
       "    <tr>\n",
       "      <th>92</th>\n",
       "      <td>0.772593</td>\n",
       "      <td>0.964646</td>\n",
       "    </tr>\n",
       "    <tr>\n",
       "      <th>93</th>\n",
       "      <td>0.756220</td>\n",
       "      <td>0.969697</td>\n",
       "    </tr>\n",
       "    <tr>\n",
       "      <th>94</th>\n",
       "      <td>0.734899</td>\n",
       "      <td>0.974747</td>\n",
       "    </tr>\n",
       "    <tr>\n",
       "      <th>95</th>\n",
       "      <td>0.707742</td>\n",
       "      <td>0.979798</td>\n",
       "    </tr>\n",
       "    <tr>\n",
       "      <th>96</th>\n",
       "      <td>0.673323</td>\n",
       "      <td>0.984848</td>\n",
       "    </tr>\n",
       "    <tr>\n",
       "      <th>97</th>\n",
       "      <td>0.620751</td>\n",
       "      <td>0.989899</td>\n",
       "    </tr>\n",
       "    <tr>\n",
       "      <th>98</th>\n",
       "      <td>0.529560</td>\n",
       "      <td>0.994949</td>\n",
       "    </tr>\n",
       "    <tr>\n",
       "      <th>99</th>\n",
       "      <td>0.000569</td>\n",
       "      <td>1.000000</td>\n",
       "    </tr>\n",
       "  </tbody>\n",
       "</table>\n",
       "<p>100 rows × 2 columns</p>\n",
       "</div>"
      ],
      "text/plain": [
       "           0         1\n",
       "0   0.971347  0.500000\n",
       "1   0.970920  0.505051\n",
       "2   0.970529  0.510101\n",
       "3   0.970137  0.515152\n",
       "4   0.969923  0.520202\n",
       "5   0.969496  0.525253\n",
       "6   0.969105  0.530303\n",
       "7   0.968749  0.535354\n",
       "8   0.968322  0.540404\n",
       "9   0.968001  0.545455\n",
       "10  0.967539  0.550505\n",
       "11  0.967005  0.555556\n",
       "12  0.966827  0.560606\n",
       "13  0.966471  0.565657\n",
       "14  0.965937  0.570707\n",
       "15  0.965332  0.575758\n",
       "16  0.964656  0.580808\n",
       "17  0.964193  0.585859\n",
       "18  0.963552  0.590909\n",
       "19  0.963125  0.595960\n",
       "20  0.962556  0.601010\n",
       "21  0.961986  0.606061\n",
       "22  0.961488  0.611111\n",
       "23  0.961239  0.616162\n",
       "24  0.960776  0.621212\n",
       "25  0.960278  0.626263\n",
       "26  0.959708  0.631313\n",
       "27  0.959103  0.636364\n",
       "28  0.958534  0.641414\n",
       "29  0.957928  0.646465\n",
       "..       ...       ...\n",
       "70  0.905001  0.853535\n",
       "71  0.902367  0.858586\n",
       "72  0.899235  0.863636\n",
       "73  0.896494  0.868687\n",
       "74  0.894216  0.873737\n",
       "75  0.891404  0.878788\n",
       "76  0.887916  0.883838\n",
       "77  0.884357  0.888889\n",
       "78  0.880335  0.893939\n",
       "79  0.876490  0.898990\n",
       "80  0.872112  0.904040\n",
       "81  0.868340  0.909091\n",
       "82  0.863641  0.914141\n",
       "83  0.857092  0.919192\n",
       "84  0.851148  0.924242\n",
       "85  0.844563  0.929293\n",
       "86  0.837124  0.934343\n",
       "87  0.829614  0.939394\n",
       "88  0.820965  0.944444\n",
       "89  0.811853  0.949495\n",
       "90  0.800178  0.954545\n",
       "91  0.788041  0.959596\n",
       "92  0.772593  0.964646\n",
       "93  0.756220  0.969697\n",
       "94  0.734899  0.974747\n",
       "95  0.707742  0.979798\n",
       "96  0.673323  0.984848\n",
       "97  0.620751  0.989899\n",
       "98  0.529560  0.994949\n",
       "99  0.000569  1.000000\n",
       "\n",
       "[100 rows x 2 columns]"
      ]
     },
     "execution_count": 247,
     "metadata": {},
     "output_type": "execute_result"
    }
   ],
   "source": [
    "pd.DataFrame(list(zip(recall_all, threshold_values)))"
   ]
  },
  {
   "cell_type": "code",
   "execution_count": 250,
   "metadata": {
    "ExecuteTime": {
     "end_time": "2017-11-12T20:21:01.465336Z",
     "start_time": "2017-11-12T20:21:01.433633Z"
    },
    "collapsed": false
   },
   "outputs": [
    {
     "name": "stdout",
     "output_type": "stream",
     "text": [
      "0.706495817761\n",
      "0.990469061876\n"
     ]
    }
   ],
   "source": [
    "print(recall_function(probabilities,0.98))\n",
    "print(precision_function(probabilities,0.98))"
   ]
  },
  {
   "cell_type": "code",
   "execution_count": 256,
   "metadata": {
    "ExecuteTime": {
     "end_time": "2017-11-12T20:24:50.152556Z",
     "start_time": "2017-11-12T20:24:50.131564Z"
    },
    "collapsed": false
   },
   "outputs": [
    {
     "data": {
      "text/plain": [
       "191.00000000000003"
      ]
     },
     "execution_count": 256,
     "metadata": {},
     "output_type": "execute_result"
    }
   ],
   "source": [
    "high_threshold = apply_threshold(probabilities, threshold=0.98)\n",
    "high_threshold[high_threshold==1].shape[0]*(1-precision_function(probabilities, 0.98))"
   ]
  },
  {
   "cell_type": "markdown",
   "metadata": {},
   "source": [
    "## Evaluating specific search terms\n"
   ]
  },
  {
   "cell_type": "code",
   "execution_count": 291,
   "metadata": {
    "ExecuteTime": {
     "end_time": "2017-11-12T20:48:29.181223Z",
     "start_time": "2017-11-12T20:48:29.144780Z"
    },
    "collapsed": false,
    "scrolled": false
   },
   "outputs": [],
   "source": [
    "baby_reviews = test_data[test_data['name'].apply(lambda x: 'baby' in str(x).lower())]"
   ]
  },
  {
   "cell_type": "code",
   "execution_count": 294,
   "metadata": {
    "ExecuteTime": {
     "end_time": "2017-11-12T20:53:41.561869Z",
     "start_time": "2017-11-12T20:53:40.791383Z"
    },
    "collapsed": false
   },
   "outputs": [],
   "source": [
    "baby_matrix = vectorizer.transform(baby_reviews['review_clean'])\n",
    "probabilities = model.predict_proba(baby_matrix)[:,1]"
   ]
  },
  {
   "cell_type": "code",
   "execution_count": 295,
   "metadata": {
    "ExecuteTime": {
     "end_time": "2017-11-12T20:53:41.705551Z",
     "start_time": "2017-11-12T20:53:41.701962Z"
    },
    "collapsed": true
   },
   "outputs": [],
   "source": [
    "threshold_values = np.linspace(0.5, 1, num=100)"
   ]
  },
  {
   "cell_type": "code",
   "execution_count": 300,
   "metadata": {
    "ExecuteTime": {
     "end_time": "2017-11-12T20:57:26.693443Z",
     "start_time": "2017-11-12T20:57:26.113027Z"
    },
    "collapsed": false
   },
   "outputs": [],
   "source": [
    "recall_all = [recall_function(probabilities, x, baby_reviews) for x in threshold_values]\n",
    "precision_all = [precision_function(probabilities, x, baby_reviews) for x in threshold_values]"
   ]
  },
  {
   "cell_type": "code",
   "execution_count": 301,
   "metadata": {
    "ExecuteTime": {
     "end_time": "2017-11-12T20:57:31.038312Z",
     "start_time": "2017-11-12T20:57:30.728047Z"
    },
    "collapsed": false
   },
   "outputs": [
    {
     "data": {
      "image/png": "[encoded data removed]",
      "text/plain": [
       "<matplotlib.figure.Figure at 0x11d139550>"
      ]
     },
     "metadata": {},
     "output_type": "display_data"
    }
   ],
   "source": [
    "plot_pr_curve(precision_all, recall_all, \"Precision-Recall (Baby)\")"
   ]
  },
  {
   "cell_type": "code",
   "execution_count": 302,
   "metadata": {
    "ExecuteTime": {
     "end_time": "2017-11-12T21:01:22.159865Z",
     "start_time": "2017-11-12T21:01:22.145173Z"
    },
    "collapsed": true
   },
   "outputs": [
    {
     "data": {
      "text/plain": [
       "[(0.94646985594878175, 0.5),\n",
       " (0.94695621217515125, 0.50505050505050508),\n",
       " (0.94744343488330662, 0.51010101010101006),\n",
       " (0.94826048171275645, 0.51515151515151514),\n",
       " (0.9487591501517586, 0.52020202020202022),\n",
       " (0.94925853135608362, 0.5252525252525253),\n",
       " (0.94957081545064381, 0.53030303030303028),\n",
       " (0.94972266952943285, 0.53535353535353536),\n",
       " (0.95037620924399857, 0.54040404040404044),\n",
       " (0.95121076233183854, 0.54545454545454541),\n",
       " (0.95187645896929429, 0.5505050505050505),\n",
       " (0.95253505933117588, 0.55555555555555558),\n",
       " (0.95268933261377942, 0.56060606060606055),\n",
       " (0.95300684191573637, 0.56565656565656564),\n",
       " (0.95333333333333337, 0.57070707070707072),\n",
       " (0.95332492340962338, 0.5757575757575758),\n",
       " (0.95361848041869701, 0.58080808080808077),\n",
       " (0.95445508765588294, 0.58585858585858586),\n",
       " (0.95475113122171951, 0.59090909090909094),\n",
       " (0.95491580662683329, 0.59595959595959602),\n",
       " (0.95556764599202026, 0.60101010101010099),\n",
       " (0.95570884007986934, 0.60606060606060608),\n",
       " (0.95602398691622748, 0.61111111111111116),\n",
       " (0.95633982172093868, 0.61616161616161613),\n",
       " (0.9570049189287666, 0.62121212121212122),\n",
       " (0.9575205104831358, 0.6262626262626263),\n",
       " (0.9574972637723459, 0.63131313131313127),\n",
       " (0.95816587504567041, 0.63636363636363635),\n",
       " (0.95865349432857661, 0.64141414141414144),\n",
       " (0.95915002747755995, 0.64646464646464641),\n",
       " (0.95983862094260042, 0.65151515151515149),\n",
       " (0.95998531571218793, 0.65656565656565657),\n",
       " (0.96047794117647056, 0.66161616161616166),\n",
       " (0.96043430253956574, 0.66666666666666674),\n",
       " (0.9612974566900111, 0.67171717171717171),\n",
       " (0.96127604646874421, 0.6767676767676768),\n",
       " (0.96160236293151191, 0.68181818181818188),\n",
       " (0.96243523316062174, 0.68686868686868685),\n",
       " (0.96309347181008897, 0.69191919191919193),\n",
       " (0.96378157503714712, 0.69696969696969702),\n",
       " (0.96374116772034213, 0.70202020202020199),\n",
       " (0.96372093023255812, 0.70707070707070707),\n",
       " (0.96423915067982868, 0.71212121212121215),\n",
       " (0.96421248835041939, 0.71717171717171713),\n",
       " (0.96456546064901161, 0.72222222222222221),\n",
       " (0.96509891750653232, 0.72727272727272729),\n",
       " (0.96616189942045239, 0.73232323232323238),\n",
       " (0.96666666666666667, 0.73737373737373746),\n",
       " (0.96716081816475885, 0.74242424242424243),\n",
       " (0.96803309514855207, 0.74747474747474751),\n",
       " (0.96799698795180722, 0.7525252525252526),\n",
       " (0.96852619675838669, 0.75757575757575757),\n",
       " (0.96882675231437743, 0.76262626262626265),\n",
       " (0.96934140802422408, 0.76767676767676774),\n",
       " (0.96947288585513847, 0.77272727272727271),\n",
       " (0.96978335233751423, 0.77777777777777779),\n",
       " (0.97030268418046828, 0.78282828282828287),\n",
       " (0.97043677283997709, 0.78787878787878785),\n",
       " (0.97077363896848134, 0.79292929292929293),\n",
       " (0.97128637059724354, 0.79797979797979801),\n",
       " (0.97258157945549328, 0.80303030303030298),\n",
       " (0.97329721362229105, 0.80808080808080818),\n",
       " (0.97341870391928598, 0.81313131313131315),\n",
       " (0.97356656948493681, 0.81818181818181823),\n",
       " (0.97349961028838661, 0.82323232323232332),\n",
       " (0.97402343749999998, 0.82828282828282829),\n",
       " (0.9739522130826479, 0.83333333333333337),\n",
       " (0.97428347074990185, 0.83838383838383845),\n",
       " (0.97499999999999998, 0.84343434343434343),\n",
       " (0.97534030380745707, 0.84848484848484851),\n",
       " (0.97605856747130981, 0.85353535353535359),\n",
       " (0.97617629541393691, 0.85858585858585856),\n",
       " (0.9764799681084313, 0.86363636363636365),\n",
       " (0.97697697697697694, 0.86868686868686873),\n",
       " (0.97749648382559773, 0.8737373737373737),\n",
       " (0.97823019552509571, 0.8787878787878789),\n",
       " (0.97893457565323072, 0.88383838383838387),\n",
       " (0.97924297924297921, 0.88888888888888884),\n",
       " (0.97975874054385603, 0.89393939393939403),\n",
       " (0.98026721479958889, 0.89898989898989901),\n",
       " (0.98079306071871131, 0.90404040404040409),\n",
       " (0.98152760481527601, 0.90909090909090917),\n",
       " (0.98165902459358068, 0.91414141414141414),\n",
       " (0.98192897667577217, 0.91919191919191923),\n",
       " (0.98243014394580863, 0.92424242424242431),\n",
       " (0.9828986746472852, 0.92929292929292928),\n",
       " (0.98484848484848486, 0.93434343434343436),\n",
       " (0.98494107376691398, 0.93939393939393945),\n",
       " (0.98608657243816256, 0.94444444444444442),\n",
       " (0.98639304037474906, 0.94949494949494961),\n",
       " (0.98705134029986374, 0.95454545454545459),\n",
       " (0.98777393310265282, 0.95959595959595956),\n",
       " (0.98870322428806778, 0.96464646464646475),\n",
       " (0.98888888888888893, 0.96969696969696972),\n",
       " (0.98954183266932272, 0.97474747474747481),\n",
       " (0.99014011416709913, 0.97979797979797989),\n",
       " (0.99069767441860468, 0.98484848484848486),\n",
       " (0.99165424739195229, 0.98989898989898994),\n",
       " (0.99162888036274854, 0.99494949494949503),\n",
       " (1.0, 1.0)]"
      ]
     },
     "execution_count": 302,
     "metadata": {},
     "output_type": "execute_result"
    }
   ],
   "source": [
    "list(zip(precision_all, threshold_values))"
   ]
  },
  {
   "cell_type": "code",
   "execution_count": 305,
   "metadata": {
    "ExecuteTime": {
     "end_time": "2017-11-12T21:02:33.937104Z",
     "start_time": "2017-11-12T21:02:33.933442Z"
    },
    "collapsed": false
   },
   "outputs": [
    {
     "name": "stdout",
     "output_type": "stream",
     "text": [
      "0.5404040404040404\n",
      "smaller\n"
     ]
    }
   ],
   "source": [
    "print(0.54040404040404044)\n",
    "print('smaller')"
   ]
  },
  {
   "cell_type": "code",
   "execution_count": null,
   "metadata": {
    "collapsed": true
   },
   "outputs": [],
   "source": []
  }
 ],
 "metadata": {
  "anaconda-cloud": {},
  "kernelspec": {
   "display_name": "Python [Root]",
   "language": "python",
   "name": "Python [Root]"
  },
  "language_info": {
   "codemirror_mode": {
    "name": "ipython",
    "version": 3
   },
   "file_extension": ".py",
   "mimetype": "text/x-python",
   "name": "python",
   "nbconvert_exporter": "python",
   "pygments_lexer": "ipython3",
   "version": "3.5.2"
  },
  "toc": {
   "colors": {
    "hover_highlight": "#DAA520",
    "navigate_num": "#000000",
    "navigate_text": "#333333",
    "running_highlight": "#FF0000",
    "selected_highlight": "#FFD700",
    "sidebar_border": "#EEEEEE",
    "wrapper_background": "#FFFFFF"
   },
   "moveMenuLeft": true,
   "nav_menu": {
    "height": "29px",
    "width": "252px"
   },
   "navigate_menu": true,
   "number_sections": true,
   "sideBar": true,
   "threshold": 4,
   "toc_cell": false,
   "toc_section_display": "block",
   "toc_window_display": false,
   "widenNotebook": false
  }
 },
 "nbformat": 4,
 "nbformat_minor": 0
}
